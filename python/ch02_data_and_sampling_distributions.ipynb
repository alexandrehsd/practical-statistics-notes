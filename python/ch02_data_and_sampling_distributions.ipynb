{
 "cells": [
  {
   "cell_type": "markdown",
   "id": "53639b92",
   "metadata": {},
   "source": [
    "# Chapter 02 - Data and Sampling Distributions"
   ]
  },
  {
   "cell_type": "markdown",
   "id": "40466605",
   "metadata": {},
   "source": [
    "## Random Sampling and Sample Bias"
   ]
  },
  {
   "cell_type": "markdown",
   "id": "759c5728",
   "metadata": {},
   "source": [
    "*Random sampling* is the process of drawing a set of elements (or individuals) from a larger set (called population) in a random way. Random sampling can be done *with replacement*, where each sampled element returns to the population after being sampled for possible future selection. Or else, it can be done *without replacement*, which implies that the sampled element does not return to the population once selected.\n",
    "\n",
    "In stratified sampling, the population is divided into groups (strata), and random samples are taken from each group (stratum).\n",
    "\n",
    "**Size vs Quality: When does size matter?**\n",
    "\n",
    "In most scenarios, data quality is more important than data quantity, and random sampling can help reducing bias and facilitate quality improvement. However, **when data is very sparse**, sampling won't help as much. In those cases, having a large amount of data may be even more important.  "
   ]
  },
  {
   "cell_type": "markdown",
   "id": "90fe0929",
   "metadata": {},
   "source": [
    "## Selection Bias"
   ]
  },
  {
   "cell_type": "markdown",
   "id": "39efb4a4",
   "metadata": {},
   "source": [
    "*Selection bias* refers to the practice of selectively choosing data - consciously or unconsciouly - in a way that leads to a conclusion that is misleading of ephemeral.\n",
    "\n",
    "Keep in mind the following paragraph copied directly from the book:\n",
    "\n",
    "\"If you specify a hypothesis and conduct a well-designed experiment to test it, you can have high confidence in the conclusion. This is frequently not what occurs, however. Often, one looks at available data and tries to discern patterns. But are the patterns real? Or are they just the product of data snooping—that is, extensive hunting through the data until something interesting emerges? There is a saying among statisticians: 'If you torture the data long enough, sooner or later it will confess.'\"\n",
    "\n",
    "**The correct procedure to avoid selection bias is to specify a hypothesis and then collecting data following randomization and random sampling principles ensures against bias.**\n",
    "\n",
    "All other forms of data analysis run the risk of selection bias (through repeated running models until you find something \"interesting\", data snooping in research, and after-the-fact selection of interesting events - which happens when you first run a research on the dataset before specifying a hypothesis.)"
   ]
  },
  {
   "cell_type": "markdown",
   "id": "e4969872",
   "metadata": {},
   "source": [
    "## Sampling Distribution of a Statistic"
   ]
  },
  {
   "cell_type": "markdown",
   "id": "a23a48c4",
   "metadata": {},
   "source": [
    "The term _sampling distribution_ of a statistic refers to the distribution of some sample statistic (mean, median, and so on) over many samples drawn from the sample population.\n",
    "\n",
    "As a consequence of the central limit theorem, the distribution of a sample statistic is likely to have a bell-shaped distribution even if the data distribution is not normal distributed.\n",
    "\n",
    "For illustration, consider the following example:"
   ]
  },
  {
   "cell_type": "markdown",
   "id": "67552a7c",
   "metadata": {},
   "source": [
    "### Central Limit Theorem"
   ]
  },
  {
   "cell_type": "code",
   "execution_count": 4,
   "id": "1e72b01e",
   "metadata": {},
   "outputs": [],
   "source": [
    "import numpy as np\n",
    "import pandas as pd\n",
    "import matplotlib.pyplot as plt\n",
    "import seaborn as sns"
   ]
  },
  {
   "cell_type": "code",
   "execution_count": 11,
   "id": "324cbed4",
   "metadata": {},
   "outputs": [
    {
     "data": {
      "text/plain": [
       "0     67000\n",
       "1     52000\n",
       "2    100000\n",
       "3     78762\n",
       "4     37041\n",
       "Name: x, dtype: int64"
      ]
     },
     "execution_count": 11,
     "metadata": {},
     "output_type": "execute_result"
    }
   ],
   "source": [
    "loans_income = pd.read_csv(\"../data/loans_income.csv\").squeeze('columns')\n",
    "loans_income.head()"
   ]
  },
  {
   "cell_type": "code",
   "execution_count": 12,
   "id": "6fc186ef",
   "metadata": {},
   "outputs": [],
   "source": [
    "sample_data = pd.DataFrame({\n",
    "    \"income\": loans_income.sample(1000),\n",
    "    \"type\": \"Data\"\n",
    "})\n",
    "\n",
    "sample_mean_05 = pd.DataFrame({\n",
    "    \"income\": [loans_income.sample(5).mean() for _ in range(1000)],\n",
    "    \"type\": \"Mean of 5\"\n",
    "})\n",
    "\n",
    "sample_mean_20 = pd.DataFrame({\n",
    "    \"income\": [loans_income.sample(20).mean() for _ in range(1000)],\n",
    "    \"type\": \"Mean of 20\"\n",
    "})\n",
    "\n",
    "results = pd.concat([sample_data, sample_mean_05, sample_mean_20])"
   ]
  },
  {
   "cell_type": "code",
   "execution_count": 13,
   "id": "b7b28aca",
   "metadata": {},
   "outputs": [
    {
     "data": {
      "image/png": "[encoded data removed]",
      "text/plain": [
       "<Figure size 400x600 with 3 Axes>"
      ]
     },
     "metadata": {},
     "output_type": "display_data"
    }
   ],
   "source": [
    "g = sns.FacetGrid(results, col='type', col_wrap=1, \n",
    "                  height=2, aspect=2)\n",
    "g.map(plt.hist, 'income', range=[0, 200000], bins=40)\n",
    "g.set_axis_labels('Income', 'Count')\n",
    "g.set_titles('{col_name}')\n",
    "\n",
    "plt.tight_layout()\n",
    "plt.show()"
   ]
  },
  {
   "cell_type": "markdown",
   "id": "7f82eb67",
   "metadata": {},
   "source": [
    "The central limit theorem allows normal-approximation formulas like the t-distribution to be used in calculating sampling distributions for inference—that is, confidence intervals and hypothesis tests"
   ]
  },
  {
   "cell_type": "markdown",
   "id": "c758ea1d",
   "metadata": {},
   "source": [
    "### Standard Error"
   ]
  },
  {
   "cell_type": "markdown",
   "id": "6b4b304c",
   "metadata": {},
   "source": [
    "The metric used to measure the variability of a sampling distribution for a statistic is called *standard error*. and is it given by:\n",
    "\n",
    "$$\n",
    "SE = \\frac{s}{\\sqrt{n}} \\text{, where $s$ is the standard deviation of the data distribution and $n$ is the sample size.}\n",
    "$$\n",
    "\n",
    "In practice, this approach of collecting new samples to estimate the standard error is typically not feasible (and statistically very wasteful). Fortunately, it turns out that it is not necessary to draw brand new samples; instead, you can use bootstrap resamples."
   ]
  },
  {
   "cell_type": "markdown",
   "id": "b9b28aab",
   "metadata": {},
   "source": [
    "## The Bootstrap"
   ]
  },
  {
   "cell_type": "markdown",
   "id": "cf9be78c",
   "metadata": {},
   "source": [
    "The boostrap is a procedure to estimate sampling distribution of a statistic, or of model parameters. The idea is as follows:\n",
    "\n",
    "1. **Draw additional samples** from the sampling distribution, **with replacement**.\n",
    "2. **Recalculate** the statistic or model for **each resample**.\n",
    "\n",
    "Bootstrapping does not involve any assumption about the data or the sample statistic being normally distributed.\n",
    "\n",
    "To be more specific, take the mean, and consider the bootstrap resampling of the mean:\n",
    "\n",
    "1. Draw a sample value, record it, and then replace it.\n",
    "2. Repeat $n$ times.\n",
    "3. Record the mean of the $n$ resampled values.\n",
    "4. Repeat steps 1-3 $R$ times.\n",
    "5. Use the $R$ results to: \\\n",
    "    a) calculate their standard deviation (this estimates the sample mean standard error). \\\n",
    "    b) produce histogram of boxplot. \\\n",
    "    c) Find a confidence interval.\n",
    "    \n",
    "    "
   ]
  },
  {
   "cell_type": "code",
   "execution_count": 21,
   "id": "1abdac6a",
   "metadata": {},
   "outputs": [
    {
     "name": "stdout",
     "output_type": "stream",
     "text": [
      "Bootstrap Statistics:\n",
      "original: 62000.0\n",
      "bias: -63.41449999999895\n",
      "std. error: 195.4980496761468\n"
     ]
    }
   ],
   "source": [
    "# bootstrap\n",
    "from sklearn.utils import resample\n",
    "\n",
    "results = []\n",
    "for nrepeat in range(1000):\n",
    "    sample = resample(loans_income)\n",
    "    results.append(sample.median())\n",
    "\n",
    "results = pd.Series(results)\n",
    "\n",
    "print('Bootstrap Statistics:')\n",
    "print(f'original: {loans_income.median()}')\n",
    "print(f'bias: {results.mean() - loans_income.median()}')\n",
    "print(f'std. error: {results.std()}')"
   ]
  },
  {
   "cell_type": "markdown",
   "id": "8608764d",
   "metadata": {},
   "source": [
    "## (Bootstrap) Confidence Intervals"
   ]
  },
  {
   "cell_type": "markdown",
   "id": "233b38f1",
   "metadata": {},
   "source": [
    "We have introduced so far the concepts of frequency tables, histograms, boxplots, and standard errors. Confidence intervals are just another way of assessing the potential error in a sample estimate.\n",
    "\n",
    "Since this subject is very important, keep in mind the key terms:\n",
    "\n",
    "**Confidence level** \\\n",
    "    the percentage of confidence intervals, constructed in the same way from the same population, that are expected to contain the statistic of interest."
   ]
  },
  {
   "cell_type": "markdown",
   "id": "caf177f3",
   "metadata": {},
   "source": [
    "Regarding building confidence intervals using the bootstrap strategy, we can think of a 90% CI as follows:\\\n",
    "    It is the interval that encloses the central 90% of the bootstrap sampling distribution of a statistic.\n",
    "    \n",
    "The algorithm for a **bootstrap confidence interval** is as follows:\n",
    "\n",
    "1. Draw a random sample of size $n$ with replacement from the data (a resample).\n",
    "2. Record the statistic of interest for the resample.\n",
    "3. Repeat steps 1-2 many ($R$) times.\n",
    "4. For an $x$% confidence interval, trim $[(100-x)/2]$% of the R resample result from either end of the distribution.\n",
    "5. The trim points are the endpoints of an $x$% bootstrap confidence interval."
   ]
  },
  {
   "cell_type": "code",
   "execution_count": 102,
   "id": "fdba8da6",
   "metadata": {},
   "outputs": [],
   "source": [
    "# bootstrap confidence interval\n",
    "np.random.seed(seed=3)  \n",
    "\n",
    "# create a sample of 20 loan income\n",
    "loans_income20 = resample(loans_income, n_samples=20, replace=False)\n",
    "results = []\n",
    "for nrepeat in range(500):\n",
    "    sample = resample(loans_income20)  # sample with replacement\n",
    "    results.append(sample.mean())\n",
    "    \n",
    "results = pd.Series(results)\n",
    "sorted_results = results.sort_values(ignore_index=True)\n",
    "\n",
    "lower_endpoint, upper_endpoint = results.quantile([0.05, 0.95])\n",
    "mean = results.mean()"
   ]
  },
  {
   "cell_type": "code",
   "execution_count": 103,
   "id": "f0a2812d",
   "metadata": {},
   "outputs": [
    {
     "data": {
      "image/png": "[encoded data removed]",
      "text/plain": [
       "<Figure size 640x480 with 1 Axes>"
      ]
     },
     "metadata": {},
     "output_type": "display_data"
    }
   ],
   "source": [
    "fig, ax = plt.subplots(1, 1)\n",
    "\n",
    "results.plot.hist(ax=ax, bins=20)\n",
    "\n",
    "for x in [lower_endpoint, upper_endpoint]:\n",
    "    ax.plot([x, x], [0, 65], color='black')\n",
    "    ax.text(x, 70, f'{x:.0f}', \n",
    "            horizontalalignment='center', verticalalignment='center')\n",
    "ax.text((lower_endpoint + upper_endpoint) / 2, 60, '90% interval',\n",
    "        horizontalalignment='center', verticalalignment='center')\n",
    "# mean\n",
    "ax.plot([mean, mean], [0, 50], color='black', linestyle='--')\n",
    "\n",
    "plt.tight_layout()\n",
    "plt.show()"
   ]
  },
  {
   "cell_type": "markdown",
   "id": "d02e9b3d",
   "metadata": {},
   "source": [
    "## Normal Distribution"
   ]
  },
  {
   "cell_type": "markdown",
   "id": "a6a528cf",
   "metadata": {},
   "source": [
    "The normal distribution plays a central role in classical statistics. Given that a random variable $X$ follows a normal distribution with mean $\\mu$ and variance $\\sigma^2$, we write that:\n",
    "\n",
    "$$\n",
    "f_X(x) \\sim \\frac{1}{\\sqrt{2\\pi\\sigma^2}}e^{\\frac{(x-\\mu)}{2\\sigma^2}}\n",
    "$$\n",
    "\n",
    "To compare any distribution to a normal distribution, we must compute the z-distribution of the distribution we want to compare with. The z-score can be computed by subtracting the mean from the values of the distribution and dividing by the standard deviation:\n",
    "\n",
    "$$\n",
    "z = \\frac{x - \\mu}{\\sigma}\n",
    "$$\n",
    "\n",
    "A visual tool to compare the distribution with a normal one is the QQ-Plot. A QQ-Plot is used to visually determine how close a sample is to a specified distribution—in this case, the normal distribution. The QQ-Plot orders the z-scores from low to high and plots each value’s z-score on the y-axis; the x-axis is the corresponding quantile of a normal distribution for that value’s rank. Since the data is normalized, the units correspond to the number of standard deviations away from the mean. **If the points roughly fall on the diagonal line, then the sample distribution can be considered close to normal**."
   ]
  },
  {
   "cell_type": "code",
   "execution_count": 108,
   "id": "b1639bef",
   "metadata": {},
   "outputs": [
    {
     "data": {
      "image/png": "[encoded data removed]",
      "text/plain": [
       "<Figure size 400x400 with 1 Axes>"
      ]
     },
     "metadata": {},
     "output_type": "display_data"
    }
   ],
   "source": [
    "fig, ax = plt.subplots(figsize=(4, 4))\n",
    "norm_sample = stats.norm.rvs(size=100)\n",
    "stats.probplot(norm_sample, plot=ax)\n",
    "\n",
    "plt.tight_layout()\n",
    "plt.show()"
   ]
  },
  {
   "cell_type": "markdown",
   "id": "205a1789",
   "metadata": {},
   "source": [
    "## Long-Tailed Distributions"
   ]
  },
  {
   "cell_type": "markdown",
   "id": "ccde7471",
   "metadata": {},
   "source": [
    "While the normal distribution is often appropriate and useful with respect to the distribution of errors and sample statistics, it typically does not characterize the distribution of raw data. Look for example at the QQ-Plot for the daily stock returns for Netflix (NFLX):"
   ]
  },
  {
   "cell_type": "code",
   "execution_count": 109,
   "id": "37d4b5f0",
   "metadata": {},
   "outputs": [
    {
     "data": {
      "image/png": "[encoded data removed]",
      "text/plain": [
       "<Figure size 400x400 with 1 Axes>"
      ]
     },
     "metadata": {},
     "output_type": "display_data"
    }
   ],
   "source": [
    "sp500_px = pd.read_csv(\"../data/sp500_data.csv.gz\", index_col=0)\n",
    "\n",
    "nflx = sp500_px.NFLX\n",
    "nflx = np.diff(np.log(nflx[nflx>0]))\n",
    "\n",
    "fig, ax = plt.subplots(figsize=(4, 4))\n",
    "\n",
    "from scipy import stats\n",
    "stats.probplot(nflx, plot=ax)\n",
    "\n",
    "plt.tight_layout()\n",
    "plt.show()"
   ]
  },
  {
   "cell_type": "markdown",
   "id": "732f555b",
   "metadata": {},
   "source": [
    "We can see that the points are far below the line for low values and far above the line for high values, indicating the data are not normally distributed. This means that we are much more likely to observe extreme values than would be expected if the data had a normal distribution."
   ]
  },
  {
   "cell_type": "markdown",
   "id": "73212e1a",
   "metadata": {},
   "source": [
    "## Student's t-distribution"
   ]
  },
  {
   "cell_type": "markdown",
   "id": "ca696b33",
   "metadata": {},
   "source": [
    "The t-distribution arose from the question: \"What is the sampling distribution of the mean\n",
    "of a sample, drawn from a larger population?\" and it was answered by W. S. Gosset in 1908.\n",
    "\n",
    "If you want to construct a confidence interval using the t-distribution then let $n$ be the sample of size for which the sample mean $\\bar{x}$ has been calculated. If $s$ is the sample standard deviation, a 90% confidence interval around the sample mean is given by:\n",
    "\n",
    "$$\n",
    "\\bar{x} \\pm t_{n-1}(0.05) \\frac{s}{\\sqrt{n}}\n",
    "$$\n",
    "\n",
    "where $t_{n-1}(.05)$ is the value of the t-statistic, with $(n-1)$ degrees of freedom, that chops off 5% of the t-distribution at either end.\n",
    "\n",
    "The t-distribution is widely used as a reference basis for the distribution of sample means, differences between two sample means, regression parameters, and more."
   ]
  },
  {
   "cell_type": "code",
   "execution_count": 122,
   "id": "a751809b",
   "metadata": {},
   "outputs": [
    {
     "name": "stdout",
     "output_type": "stream",
     "text": [
      "Mean is 67275.158\n",
      "90% CI is [66849.50635474508, 67700.8096452549]\n"
     ]
    }
   ],
   "source": [
    "# 90% confidence interval with t-distribution\n",
    "np.random.seed(3)\n",
    "\n",
    "# create a sample of 20 loan income\n",
    "sample = resample(loans_income, n_samples=1000, replace=False)\n",
    "xbar = sample.mean()\n",
    "t_statistic = 1.645\n",
    "s = results.std()\n",
    "n = 1000\n",
    "\n",
    "test_range = t_statistic*s/np.sqrt(n)\n",
    "\n",
    "CI = [xbar - test_range, xbar + test_range]\n",
    "print(f'Mean is {xbar}')\n",
    "print(f'90% CI is {CI}')"
   ]
  },
  {
   "cell_type": "markdown",
   "id": "fc556507",
   "metadata": {},
   "source": [
    "## Binomial Distribution"
   ]
  },
  {
   "cell_type": "markdown",
   "id": "a4315084",
   "metadata": {},
   "source": [
    "A binomial random variable models the number of success in $n$ trials (or repetitions) of the same experiment. If a random variable $X$ follows a binomial distribution, then, the probability of $k$ successes among $n$ trials ($k < n$) is given by:\n",
    "\n",
    "$$\n",
    "p^k(1 - p)^{n-k}\n",
    "$$\n",
    "\n",
    "where $p$ is the probability of success. With this distribution, we can answer questions like:\n",
    "\n",
    "_If the probability of a click converting to a sale is 0.02, what is the probability of observing 0 sales in 200 clicks?_\n",
    "\n",
    "To answer this question, let's collect some facts:\n",
    "\n",
    "- The probability of success (a click converts to a sale) is 0.02\n",
    "- The number of trials is $n = 200$\n",
    "- we are interest in know the situation where no sale is observed. Hence, $k = 0$.\n",
    "\n",
    "Thus, the answer is given by $(0.02)^0 (1 - 0.02)^{200 - 0}$, which we can evaluate using python:"
   ]
  },
  {
   "cell_type": "code",
   "execution_count": 123,
   "id": "88fbbe3e",
   "metadata": {},
   "outputs": [
    {
     "data": {
      "text/plain": [
       "0.0175879466057215"
      ]
     },
     "execution_count": 123,
     "metadata": {},
     "output_type": "execute_result"
    }
   ],
   "source": [
    "from scipy import stats\n",
    "stats.binom.pmf(0, n=200, p=0.02)"
   ]
  },
  {
   "cell_type": "markdown",
   "id": "1d49f5c8",
   "metadata": {},
   "source": [
    "## Chi-Square Distribution"
   ]
  },
  {
   "cell_type": "markdown",
   "id": "8a2e0ebd",
   "metadata": {},
   "source": [
    "An important idea in statistics is departure from expectation, especially with respect to category counts. By expectation, we mean the null model or the \"null hypothesis\", or the assumed status quo.\n",
    "\n",
    "When you have a situation with categories and you want to test whether the values for one category are independent of another, and you have the **counts** of the number in each of the cells of the data table, then you can use the chi-square test statistic. This statistic measures the extent to which results depart from the null expectation.\n",
    "\n",
    "The chi-square distribution is used to perform goodness-of-fit tests in order to compare distributions. It is also useful for determining whether multiple treatments (an A/B/C test) differ from one another in their effects."
   ]
  },
  {
   "cell_type": "markdown",
   "id": "5bdc901b",
   "metadata": {},
   "source": [
    "## F-Distribution"
   ]
  },
  {
   "cell_type": "markdown",
   "id": "99fac170",
   "metadata": {},
   "source": [
    "As a counterpart of the chi-square distribution which deals with counts of data, the F-distribution deals with measured continuous values. It is use can be similar to the Chi-Square distribution: A common procedure in scientific experimentation is to test multiple treatments across groups—say, different fertilizers on different blocks of a field. This is similar to the A/B/C test referred to in the chi-square distribution.\n",
    "\n",
    "However, in this case we are interested in the extent to which differences among group means are greater than we might expect under normal random variation. The F-statistic measures this and is the ratio of the variability among the group means to the variability within each group (also called residual variability). This comparison is termed an analysis of variance.\n",
    "\n",
    "The distribution of the F-statistic is the frequency distribution of all the values that would be produced by randomly permuting data in which all the group means are equal (i.e., a null model)."
   ]
  },
  {
   "cell_type": "markdown",
   "id": "25c6a01b",
   "metadata": {},
   "source": [
    "## Poisson and Related Distributions"
   ]
  },
  {
   "cell_type": "markdown",
   "id": "7c5144ca",
   "metadata": {},
   "source": [
    "Processes that produce events randomly at a given overall rate spread over time or space can be modeled by som distributions such as:\n",
    "\n",
    "**The Poisson Distribution**\n",
    "\n",
    "Models the frequency distribution of the **number of events** in sampled units of time or space. Using this distribution to model data, we can answer queuing questions like: \n",
    "\n",
    "_\"How much capacity do we need to be 95% sure of fully processing the internet traffic that arrives on a server in any five second period?\"_\n",
    "\n",
    "it is described by the rate parameter $\\lambda$, which is the mean number of events that occurs in a specified interval of time or space. The variance of a Poisson distribution is also $\\lambda$.\n",
    "\n",
    "The PMF of a Poisson R.V. X is given by $f_X(k) \\sim \\frac{\\lambda^k e^{-\\lambda}}{k!}$, for $k = 0, 1, ...$. The `scipy` function to sample from a Poisson distribution is given by:\n",
    "\n",
    "```python\n",
    "stats.poisson.rvs(mu=2, size=100)  # use mu instead of lambda\n",
    "``` \n",
    "\n",
    "**The exponential Distribution**\n",
    "\n",
    "The exponential distribution models the time of distance from one event to the next event. It is also used in engineering to model time to failure, and in process management to model, for example, the time required per service call.\n",
    "\n",
    "It is also described by the rate parameter $\\lambda$.\n",
    "\n",
    "The PDF of a exponential R.V. is give by $f_X(x) \\sim \\lambda e^{-\\lambda x}$, for $x > 0$.\n",
    "\n",
    "```python\n",
    "stats.expon.rvs(scale=1/0.2, size=100)  # pass lambda=0.2 via the scale parameter which is 1/lambda  \n",
    "```\n",
    "\n",
    "**The Weibull Distribution**\n",
    "\n",
    "In many cases, the event rate does not remain constant over time. If the period over which it changes is much longer than the typical interval between events, there is no problem; you just subdivide the analysis into the segments where rates are relatively constant. If, however, the event rate changes over the time of the interval, the exponential (or Poisson) distributions are no longer useful. In such cases, we use the Weibull Distribution.\n",
    "\n",
    "The Weibull distribution is similar to the exponential distribution, with the addition of two other parameters:\n",
    "\n",
    "- $\\beta$: shape parameter. If $\\beta > 1$, the probability of an event increases over time; if $\\beta < 1$, the probability decreases.\n",
    "- $\\eta$: scale parameter. Because the Weibull distribution is used with time-to-failure analysis instead of event rate, the second parameter is expressed in terms of characteristic life, rather than in terms of the rate of events per interval.\n",
    "\n",
    "Estimation using the Weibull Distribution includes also estimates $\\beta$ and $\\eta$. The following code would generate 100 random numbers (lifetimes) from a Weibull distribution with shape of 1.5 and characteristic life of 5,000:\n",
    "\n",
    "```python\n",
    "stats.weibull_min.rvs(1.5, scale=5000, size=100)\n",
    "```"
   ]
  }
 ],
 "metadata": {
  "kernelspec": {
   "display_name": "Python 3 (ipykernel)",
   "language": "python",
   "name": "python3"
  },
  "language_info": {
   "codemirror_mode": {
    "name": "ipython",
    "version": 3
   },
   "file_extension": ".py",
   "mimetype": "text/x-python",
   "name": "python",
   "nbconvert_exporter": "python",
   "pygments_lexer": "ipython3",
   "version": "3.8.10"
  },
  "varInspector": {
   "cols": {
    "lenName": 16,
    "lenType": 16,
    "lenVar": 40
   },
   "kernels_config": {
    "python": {
     "delete_cmd_postfix": "",
     "delete_cmd_prefix": "del ",
     "library": "var_list.py",
     "varRefreshCmd": "print(var_dic_list())"
    },
    "r": {
     "delete_cmd_postfix": ") ",
     "delete_cmd_prefix": "rm(",
     "library": "var_list.r",
     "varRefreshCmd": "cat(var_dic_list()) "
    }
   },
   "types_to_exclude": [
    "module",
    "function",
    "builtin_function_or_method",
    "instance",
    "_Feature"
   ],
   "window_display": false
  }
 },
 "nbformat": 4,
 "nbformat_minor": 5
}
