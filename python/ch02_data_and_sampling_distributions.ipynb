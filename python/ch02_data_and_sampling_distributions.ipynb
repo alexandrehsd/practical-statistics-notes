{
 "cells": [
  {
   "cell_type": "markdown",
   "id": "53639b92",
   "metadata": {},
   "source": [
    "# Chapter 02 - Data and Sampling Distributions"
   ]
  },
  {
   "cell_type": "markdown",
   "id": "40466605",
   "metadata": {},
   "source": [
    "## Random Sampling and Sample Bias"
   ]
  },
  {
   "cell_type": "markdown",
   "id": "759c5728",
   "metadata": {},
   "source": [
    "*Random sampling* is the process of drawing a set of elements (or individuals) from a larger set (called population) in a random way. Random sampling can be done *with replacement*, where each sampled element returns to the population after being sampled for possible future selection. Or else, it can be done *without replacement*, which implies that the sampled element does not return to the population once selected.\n",
    "\n",
    "In stratified sampling, the population is divided into groups (strata), and random samples are taken from each group (stratum).\n",
    "\n",
    "**Size vs Quality: When does size matter?**\n",
    "\n",
    "In most scenarios, data quality is more important than data quantity, and random sampling can help reducing bias and facilitate quality improvement. However, **when data is very sparse**, sampling won't help as much. In those cases, having a large amount of data may be even more important.  "
   ]
  },
  {
   "cell_type": "markdown",
   "id": "90fe0929",
   "metadata": {},
   "source": [
    "## Selection Bias"
   ]
  },
  {
   "cell_type": "markdown",
   "id": "39efb4a4",
   "metadata": {},
   "source": [
    "*Selection bias* refers to the practice of selectively choosing data - consciously or unconsciouly - in a way that leads to a conclusion that is misleading of ephemeral.\n",
    "\n",
    "Keep in mind the following paragraph copied directly from the book:\n",
    "\n",
    "\"If you specify a hypothesis and conduct a well-designed experiment to test it, you can have high confidence in the conclusion. This is frequently not what occurs, however. Often, one looks at available data and tries to discern patterns. But are the patterns real? Or are they just the product of data snooping—that is, extensive hunting through the data until something interesting emerges? There is a saying among statisticians: 'If you torture the data long enough, sooner or later it will confess.'\"\n",
    "\n",
    "**The correct procedure to avoid selection bias is to specify a hypothesis and then collecting data following randomization and random sampling principles ensures against bias.**\n",
    "\n",
    "All other forms of data analysis run the risk of selection bias (through repeated running models until you find something \"interesting\", data snooping in research, and after-the-fact selection of interesting events - which happens when you first run a research on the dataset before specifying a hypothesis.)"
   ]
  },
  {
   "cell_type": "code",
   "execution_count": null,
   "id": "be861af6",
   "metadata": {},
   "outputs": [],
   "source": []
  }
 ],
 "metadata": {
  "kernelspec": {
   "display_name": "Python 3 (ipykernel)",
   "language": "python",
   "name": "python3"
  },
  "language_info": {
   "codemirror_mode": {
    "name": "ipython",
    "version": 3
   },
   "file_extension": ".py",
   "mimetype": "text/x-python",
   "name": "python",
   "nbconvert_exporter": "python",
   "pygments_lexer": "ipython3",
   "version": "3.8.10"
  },
  "varInspector": {
   "cols": {
    "lenName": 16,
    "lenType": 16,
    "lenVar": 40
   },
   "kernels_config": {
    "python": {
     "delete_cmd_postfix": "",
     "delete_cmd_prefix": "del ",
     "library": "var_list.py",
     "varRefreshCmd": "print(var_dic_list())"
    },
    "r": {
     "delete_cmd_postfix": ") ",
     "delete_cmd_prefix": "rm(",
     "library": "var_list.r",
     "varRefreshCmd": "cat(var_dic_list()) "
    }
   },
   "types_to_exclude": [
    "module",
    "function",
    "builtin_function_or_method",
    "instance",
    "_Feature"
   ],
   "window_display": false
  }
 },
 "nbformat": 4,
 "nbformat_minor": 5
}
