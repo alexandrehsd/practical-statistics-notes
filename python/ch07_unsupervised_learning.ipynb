{
 "cells": [
  {
   "cell_type": "markdown",
   "id": "3c6f1a5d",
   "metadata": {},
   "source": [
    "# Chapter 07 - Unsupervised Learning"
   ]
  },
  {
   "cell_type": "code",
   "execution_count": 1,
   "id": "7b0e6da1",
   "metadata": {},
   "outputs": [],
   "source": [
    "import math\n",
    "from pathlib import Path\n",
    "import pandas as pd\n",
    "import numpy as np\n",
    "\n",
    "from sklearn import preprocessing\n",
    "from sklearn.decomposition import PCA\n",
    "from sklearn.cluster import KMeans\n",
    "from sklearn.mixture import GaussianMixture\n",
    "\n",
    "from scipy.cluster.hierarchy import linkage, dendrogram, fcluster\n",
    "from scipy.stats import multivariate_normal\n",
    "\n",
    "import prince\n",
    "\n",
    "import matplotlib.pyplot as plt\n",
    "from matplotlib import cm \n",
    "from matplotlib.colors import from_levels_and_colors\n",
    "import seaborn as sns"
   ]
  },
  {
   "cell_type": "code",
   "execution_count": 2,
   "id": "9419590c",
   "metadata": {},
   "outputs": [],
   "source": [
    "SP500_DATA_CSV = '../data/sp500_data.csv.gz'\n",
    "SP500_SECTORS_CSV = '../data/sp500_sectors.csv'\n",
    "LOAN_DATA_CSV = '../data/loan_data.csv.gz'\n",
    "HOUSE_TASKS_CSV = '../data/housetasks.csv'"
   ]
  },
  {
   "cell_type": "markdown",
   "id": "d0006b36",
   "metadata": {},
   "source": [
    "## Principal Component Analysis"
   ]
  },
  {
   "cell_type": "markdown",
   "id": "f4439b60",
   "metadata": {},
   "source": [
    "The idea in PCA is to combine multiple numeric predictor variables into a smaller set of variables, which are weighted linear combinations of the original set. The smaller set of variables, the principal components, “explains” most of the variability of the full set of variables, reducing the dimension of the data. The weights used to form the principal components reveal the relative contributions of the original variables to the new principal components."
   ]
  },
  {
   "cell_type": "markdown",
   "id": "01a0b09c",
   "metadata": {},
   "source": [
    "### A Simple Example"
   ]
  },
  {
   "cell_type": "code",
   "execution_count": 3,
   "id": "89fb111d",
   "metadata": {},
   "outputs": [
    {
     "data": {
      "text/html": [
       "<div>\n",
       "<style scoped>\n",
       "    .dataframe tbody tr th:only-of-type {\n",
       "        vertical-align: middle;\n",
       "    }\n",
       "\n",
       "    .dataframe tbody tr th {\n",
       "        vertical-align: top;\n",
       "    }\n",
       "\n",
       "    .dataframe thead th {\n",
       "        text-align: right;\n",
       "    }\n",
       "</style>\n",
       "<table border=\"1\" class=\"dataframe\">\n",
       "  <thead>\n",
       "    <tr style=\"text-align: right;\">\n",
       "      <th></th>\n",
       "      <th>XOM</th>\n",
       "      <th>CVX</th>\n",
       "    </tr>\n",
       "  </thead>\n",
       "  <tbody>\n",
       "    <tr>\n",
       "      <th>1993-01-29</th>\n",
       "      <td>-0.016991</td>\n",
       "      <td>0.072921</td>\n",
       "    </tr>\n",
       "    <tr>\n",
       "      <th>1993-02-01</th>\n",
       "      <td>0.016991</td>\n",
       "      <td>0.102089</td>\n",
       "    </tr>\n",
       "    <tr>\n",
       "      <th>1993-02-02</th>\n",
       "      <td>0.084954</td>\n",
       "      <td>0.029168</td>\n",
       "    </tr>\n",
       "    <tr>\n",
       "      <th>1993-02-03</th>\n",
       "      <td>0.067964</td>\n",
       "      <td>0.058337</td>\n",
       "    </tr>\n",
       "    <tr>\n",
       "      <th>1993-02-04</th>\n",
       "      <td>0.034378</td>\n",
       "      <td>0.044272</td>\n",
       "    </tr>\n",
       "  </tbody>\n",
       "</table>\n",
       "</div>"
      ],
      "text/plain": [
       "                 XOM       CVX\n",
       "1993-01-29 -0.016991  0.072921\n",
       "1993-02-01  0.016991  0.102089\n",
       "1993-02-02  0.084954  0.029168\n",
       "1993-02-03  0.067964  0.058337\n",
       "1993-02-04  0.034378  0.044272"
      ]
     },
     "execution_count": 3,
     "metadata": {},
     "output_type": "execute_result"
    }
   ],
   "source": [
    "sp500_px = pd.read_csv(SP500_DATA_CSV, index_col=0)\n",
    "oil_px = sp500_px[['XOM', 'CVX']]\n",
    "oil_px.head()"
   ]
  },
  {
   "cell_type": "code",
   "execution_count": 4,
   "id": "9640f565",
   "metadata": {},
   "outputs": [
    {
     "data": {
      "text/html": [
       "<div>\n",
       "<style scoped>\n",
       "    .dataframe tbody tr th:only-of-type {\n",
       "        vertical-align: middle;\n",
       "    }\n",
       "\n",
       "    .dataframe tbody tr th {\n",
       "        vertical-align: top;\n",
       "    }\n",
       "\n",
       "    .dataframe thead th {\n",
       "        text-align: right;\n",
       "    }\n",
       "</style>\n",
       "<table border=\"1\" class=\"dataframe\">\n",
       "  <thead>\n",
       "    <tr style=\"text-align: right;\">\n",
       "      <th></th>\n",
       "      <th>XOM</th>\n",
       "      <th>CVX</th>\n",
       "    </tr>\n",
       "  </thead>\n",
       "  <tbody>\n",
       "    <tr>\n",
       "      <th>0</th>\n",
       "      <td>-0.664711</td>\n",
       "      <td>-0.747101</td>\n",
       "    </tr>\n",
       "    <tr>\n",
       "      <th>1</th>\n",
       "      <td>0.747101</td>\n",
       "      <td>-0.664711</td>\n",
       "    </tr>\n",
       "  </tbody>\n",
       "</table>\n",
       "</div>"
      ],
      "text/plain": [
       "        XOM       CVX\n",
       "0 -0.664711 -0.747101\n",
       "1  0.747101 -0.664711"
      ]
     },
     "execution_count": 4,
     "metadata": {},
     "output_type": "execute_result"
    }
   ],
   "source": [
    "pcs = PCA(n_components=2)\n",
    "pcs.fit(oil_px)\n",
    "\n",
    "loadings = pd.DataFrame(pcs.components_, columns=oil_px.columns)\n",
    "loadings"
   ]
  },
  {
   "cell_type": "code",
   "execution_count": 5,
   "id": "6ea63b5a",
   "metadata": {},
   "outputs": [
    {
     "data": {
      "image/png": "[encoded data removed]",
      "text/plain": [
       "<Figure size 288x288 with 1 Axes>"
      ]
     },
     "metadata": {
      "needs_background": "light"
     },
     "output_type": "display_data"
    }
   ],
   "source": [
    "def abline(slope, intercept, ax):\n",
    "    \"\"\"Calculate coordinates of a line based on slope and intercept\"\"\"\n",
    "    x_vals = np.array(ax.get_xlim())\n",
    "    return (x_vals, intercept + slope * x_vals)\n",
    "\n",
    "ax = oil_px.plot.scatter(x='XOM', y='CVX', alpha=0.3, figsize=(4, 4))\n",
    "ax.set_xlim(-3, 3)\n",
    "ax.set_ylim(-3, 3)\n",
    "ax.plot(*abline(loadings.loc[0, 'CVX'] / loadings.loc[0, 'XOM'], 0, ax),\n",
    "        '--', color='C1')\n",
    "ax.plot(*abline(loadings.loc[1, 'CVX'] / loadings.loc[1, 'XOM'], 0, ax),\n",
    "        '--', color='C1')\n",
    "\n",
    "plt.tight_layout()\n",
    "plt.show()"
   ]
  },
  {
   "cell_type": "markdown",
   "id": "61e678cc",
   "metadata": {},
   "source": [
    "### Interpreting Principal Components"
   ]
  },
  {
   "cell_type": "code",
   "execution_count": 6,
   "id": "00865ed6",
   "metadata": {},
   "outputs": [
    {
     "data": {
      "image/png": "[encoded data removed]",
      "text/plain": [
       "<Figure size 288x288 with 1 Axes>"
      ]
     },
     "metadata": {
      "needs_background": "light"
     },
     "output_type": "display_data"
    }
   ],
   "source": [
    "syms = sorted(['AAPL', 'MSFT', 'CSCO', 'INTC', 'CVX', 'XOM', 'SLB', 'COP',\n",
    "        'JPM', 'WFC', 'USB', 'AXP', 'WMT', 'TGT', 'HD', 'COST'])\n",
    "top_sp = sp500_px.loc[sp500_px.index >= '2011-01-01', syms]\n",
    "\n",
    "sp_pca = PCA()\n",
    "sp_pca.fit(top_sp)\n",
    "\n",
    "explained_variance = pd.DataFrame(sp_pca.explained_variance_)\n",
    "ax = explained_variance.head(10).plot.bar(legend=False, figsize=(4, 4))\n",
    "ax.set_xlabel('Component')\n",
    "\n",
    "plt.tight_layout()\n",
    "plt.show()\n"
   ]
  },
  {
   "cell_type": "code",
   "execution_count": 7,
   "id": "f32b64fa",
   "metadata": {},
   "outputs": [
    {
     "data": {
      "text/html": [
       "<div>\n",
       "<style scoped>\n",
       "    .dataframe tbody tr th:only-of-type {\n",
       "        vertical-align: middle;\n",
       "    }\n",
       "\n",
       "    .dataframe tbody tr th {\n",
       "        vertical-align: top;\n",
       "    }\n",
       "\n",
       "    .dataframe thead th {\n",
       "        text-align: right;\n",
       "    }\n",
       "</style>\n",
       "<table border=\"1\" class=\"dataframe\">\n",
       "  <thead>\n",
       "    <tr style=\"text-align: right;\">\n",
       "      <th></th>\n",
       "      <th>AAPL</th>\n",
       "      <th>AXP</th>\n",
       "      <th>COP</th>\n",
       "      <th>COST</th>\n",
       "      <th>CSCO</th>\n",
       "      <th>CVX</th>\n",
       "      <th>HD</th>\n",
       "      <th>INTC</th>\n",
       "      <th>JPM</th>\n",
       "      <th>MSFT</th>\n",
       "      <th>SLB</th>\n",
       "      <th>TGT</th>\n",
       "      <th>USB</th>\n",
       "      <th>WFC</th>\n",
       "      <th>WMT</th>\n",
       "      <th>XOM</th>\n",
       "    </tr>\n",
       "  </thead>\n",
       "  <tbody>\n",
       "    <tr>\n",
       "      <th>0</th>\n",
       "      <td>-0.300825</td>\n",
       "      <td>-0.246332</td>\n",
       "      <td>-0.261529</td>\n",
       "      <td>-0.273634</td>\n",
       "      <td>-0.064059</td>\n",
       "      <td>-0.444490</td>\n",
       "      <td>-0.207983</td>\n",
       "      <td>-0.076956</td>\n",
       "      <td>-0.196397</td>\n",
       "      <td>-0.105012</td>\n",
       "      <td>-0.481786</td>\n",
       "      <td>-0.148833</td>\n",
       "      <td>-0.116421</td>\n",
       "      <td>-0.145684</td>\n",
       "      <td>-0.122304</td>\n",
       "      <td>-0.317952</td>\n",
       "    </tr>\n",
       "    <tr>\n",
       "      <th>1</th>\n",
       "      <td>-0.505116</td>\n",
       "      <td>-0.139426</td>\n",
       "      <td>0.174212</td>\n",
       "      <td>-0.416307</td>\n",
       "      <td>-0.031939</td>\n",
       "      <td>0.289373</td>\n",
       "      <td>-0.278002</td>\n",
       "      <td>-0.033898</td>\n",
       "      <td>-0.040723</td>\n",
       "      <td>-0.053954</td>\n",
       "      <td>0.472494</td>\n",
       "      <td>-0.228123</td>\n",
       "      <td>-0.054796</td>\n",
       "      <td>-0.047427</td>\n",
       "      <td>-0.222889</td>\n",
       "      <td>0.154192</td>\n",
       "    </tr>\n",
       "    <tr>\n",
       "      <th>2</th>\n",
       "      <td>-0.786730</td>\n",
       "      <td>0.135458</td>\n",
       "      <td>-0.002367</td>\n",
       "      <td>0.465862</td>\n",
       "      <td>-0.007524</td>\n",
       "      <td>0.082374</td>\n",
       "      <td>0.166320</td>\n",
       "      <td>-0.003518</td>\n",
       "      <td>0.062261</td>\n",
       "      <td>0.016248</td>\n",
       "      <td>-0.194822</td>\n",
       "      <td>0.160833</td>\n",
       "      <td>0.048976</td>\n",
       "      <td>0.041932</td>\n",
       "      <td>0.175806</td>\n",
       "      <td>0.090167</td>\n",
       "    </tr>\n",
       "    <tr>\n",
       "      <th>3</th>\n",
       "      <td>-0.120586</td>\n",
       "      <td>0.061814</td>\n",
       "      <td>-0.206026</td>\n",
       "      <td>0.092596</td>\n",
       "      <td>0.003904</td>\n",
       "      <td>-0.577665</td>\n",
       "      <td>0.162814</td>\n",
       "      <td>-0.001605</td>\n",
       "      <td>0.057687</td>\n",
       "      <td>-0.012558</td>\n",
       "      <td>0.680914</td>\n",
       "      <td>0.109895</td>\n",
       "      <td>0.016752</td>\n",
       "      <td>0.018614</td>\n",
       "      <td>0.058439</td>\n",
       "      <td>-0.295204</td>\n",
       "    </tr>\n",
       "    <tr>\n",
       "      <th>4</th>\n",
       "      <td>0.111576</td>\n",
       "      <td>-0.596666</td>\n",
       "      <td>-0.005813</td>\n",
       "      <td>0.555529</td>\n",
       "      <td>-0.039860</td>\n",
       "      <td>0.109016</td>\n",
       "      <td>-0.185488</td>\n",
       "      <td>-0.072047</td>\n",
       "      <td>-0.385160</td>\n",
       "      <td>-0.077135</td>\n",
       "      <td>0.181332</td>\n",
       "      <td>-0.055557</td>\n",
       "      <td>-0.155440</td>\n",
       "      <td>-0.216425</td>\n",
       "      <td>0.091541</td>\n",
       "      <td>0.013277</td>\n",
       "    </tr>\n",
       "  </tbody>\n",
       "</table>\n",
       "</div>"
      ],
      "text/plain": [
       "       AAPL       AXP       COP      COST      CSCO       CVX        HD  \\\n",
       "0 -0.300825 -0.246332 -0.261529 -0.273634 -0.064059 -0.444490 -0.207983   \n",
       "1 -0.505116 -0.139426  0.174212 -0.416307 -0.031939  0.289373 -0.278002   \n",
       "2 -0.786730  0.135458 -0.002367  0.465862 -0.007524  0.082374  0.166320   \n",
       "3 -0.120586  0.061814 -0.206026  0.092596  0.003904 -0.577665  0.162814   \n",
       "4  0.111576 -0.596666 -0.005813  0.555529 -0.039860  0.109016 -0.185488   \n",
       "\n",
       "       INTC       JPM      MSFT       SLB       TGT       USB       WFC  \\\n",
       "0 -0.076956 -0.196397 -0.105012 -0.481786 -0.148833 -0.116421 -0.145684   \n",
       "1 -0.033898 -0.040723 -0.053954  0.472494 -0.228123 -0.054796 -0.047427   \n",
       "2 -0.003518  0.062261  0.016248 -0.194822  0.160833  0.048976  0.041932   \n",
       "3 -0.001605  0.057687 -0.012558  0.680914  0.109895  0.016752  0.018614   \n",
       "4 -0.072047 -0.385160 -0.077135  0.181332 -0.055557 -0.155440 -0.216425   \n",
       "\n",
       "        WMT       XOM  \n",
       "0 -0.122304 -0.317952  \n",
       "1 -0.222889  0.154192  \n",
       "2  0.175806  0.090167  \n",
       "3  0.058439 -0.295204  \n",
       "4  0.091541  0.013277  "
      ]
     },
     "execution_count": 7,
     "metadata": {},
     "output_type": "execute_result"
    }
   ],
   "source": [
    "loadings = pd.DataFrame(sp_pca.components_[0:5, :], \n",
    "                        columns=top_sp.columns)\n",
    "loadings"
   ]
  },
  {
   "cell_type": "code",
   "execution_count": 8,
   "id": "420ae077",
   "metadata": {},
   "outputs": [
    {
     "data": {
      "image/png": "[encoded data removed]",
      "text/plain": [
       "<Figure size 360x360 with 5 Axes>"
      ]
     },
     "metadata": {
      "needs_background": "light"
     },
     "output_type": "display_data"
    }
   ],
   "source": [
    "maxPC = 1.01 * loadings.loc[0:5, :].abs().to_numpy().max()\n",
    "\n",
    "f, axes = plt.subplots(5, 1, figsize=(5, 5), sharex=True)\n",
    "\n",
    "for i, ax in enumerate(axes):\n",
    "    pc_loadings = loadings.loc[i, :]\n",
    "    colors = ['C0' if l > 0 else 'C1' for l in pc_loadings]\n",
    "    ax.axhline(color='#888888')\n",
    "    pc_loadings.plot.bar(ax=ax, color=colors)\n",
    "    ax.set_ylabel(f'PC{i+1}')\n",
    "    ax.set_ylim(-maxPC, maxPC)\n",
    "\n",
    "plt.tight_layout()\n",
    "plt.show()\n"
   ]
  },
  {
   "cell_type": "markdown",
   "id": "32f19764",
   "metadata": {},
   "source": [
    "### Correspondence Analysis"
   ]
  },
  {
   "cell_type": "markdown",
   "id": "5b817597",
   "metadata": {},
   "source": [
    "PCA cannot be used for categorical data; however, a somewhat related technique is correspondence analysis. The goal is to recognize associations between categories, or between categorical features.\n",
    "\n",
    "The input can be seen as a table, with rows representing one variable and columns another, and the cells representing record counts. The output (after some matrix algebra) is a biplot—a scatterplot with axes scaled (and with percentages indicating how much variance is explained by that dimension). The meaning of the units on the axes is not intuitively connected to the original data, and the main value of the scatterplot is to illustrate graphically variables that are associated with one another (by proximity on the plot).\n",
    "\n",
    "See for example, Figure 7-4, in which household tasks are arrayed according to whether they are done jointly or solo (vertical axis), and whether wife or husband has primary responsibility (horizontal axis). Correspondence analysis is many decades old, as is the spirit of this example, judging by the assignment of tasks."
   ]
  },
  {
   "cell_type": "code",
   "execution_count": 9,
   "id": "c2b841f3",
   "metadata": {},
   "outputs": [
    {
     "data": {
      "image/png": "[encoded data removed]",
      "text/plain": [
       "<Figure size 432x432 with 1 Axes>"
      ]
     },
     "metadata": {
      "needs_background": "light"
     },
     "output_type": "display_data"
    }
   ],
   "source": [
    "housetasks = pd.read_csv(HOUSE_TASKS_CSV, index_col=0)\n",
    "\n",
    "ca = prince.CA(n_components=2)\n",
    "ca = ca.fit(housetasks)\n",
    "\n",
    "ca.plot_coordinates(housetasks, figsize=(6, 6))\n",
    "plt.tight_layout()\n",
    "plt.show()"
   ]
  },
  {
   "cell_type": "markdown",
   "id": "1d7ddb32",
   "metadata": {},
   "source": [
    "## Hierarchical Clustering"
   ]
  },
  {
   "cell_type": "code",
   "execution_count": 10,
   "id": "9abf60fa",
   "metadata": {},
   "outputs": [
    {
     "name": "stdout",
     "output_type": "stream",
     "text": [
      "(17, 4)\n"
     ]
    },
    {
     "data": {
      "image/png": "[encoded data removed]",
      "text/plain": [
       "<Figure size 360x360 with 1 Axes>"
      ]
     },
     "metadata": {
      "needs_background": "light"
     },
     "output_type": "display_data"
    },
    {
     "name": "stdout",
     "output_type": "stream",
     "text": [
      "1 : COP, CVX, SLB, XOM\n",
      "2 : AAPL, AXP, COST, CSCO, HD, INTC, JPM, MSFT, TGT, USB, WFC, WMT\n",
      "3 : AMZN\n",
      "4 : GOOGL\n"
     ]
    }
   ],
   "source": [
    "syms1 = ['AAPL', 'AMZN', 'AXP', 'COP', 'COST', 'CSCO', 'CVX', 'GOOGL', 'HD', \n",
    "         'INTC', 'JPM', 'MSFT', 'SLB', 'TGT', 'USB', 'WFC', 'WMT', 'XOM']\n",
    "df = sp500_px.loc[sp500_px.index >= '2011-01-01', syms1].transpose()\n",
    "\n",
    "Z = linkage(df, method='complete')\n",
    "print(Z.shape)\n",
    "\n",
    "### The Dendrogram\n",
    "\n",
    "fig, ax = plt.subplots(figsize=(5, 5))\n",
    "dendrogram(Z, labels=list(df.index), color_threshold=0)\n",
    "plt.xticks(rotation=90)\n",
    "ax.set_ylabel('distance')\n",
    "\n",
    "plt.tight_layout()\n",
    "plt.show()\n",
    "\n",
    "memb = fcluster(Z, 4, criterion='maxclust')\n",
    "memb = pd.Series(memb, index=df.index)\n",
    "for key, item in memb.groupby(memb):\n",
    "    print(f\"{key} : {', '.join(item.index)}\")"
   ]
  },
  {
   "cell_type": "markdown",
   "id": "9e17832b",
   "metadata": {},
   "source": [
    "## Model-Based Clustering"
   ]
  },
  {
   "cell_type": "markdown",
   "id": "4351eae4",
   "metadata": {},
   "source": [
    "In the past 20 years, significant effort has been devoted to developing model-based clustering methods. The\n",
    "techniques are grounded in statistical theory and provide more rigorous ways to determine the nature and number of clusters. They could be used, for example, in cases where there might be one group of records that are similar to one another but not necessarily close to one another (e.g., tech stocks with high variance of returns), and another group of records that are similar and also close (e.g., utility stocks with low variance)."
   ]
  },
  {
   "cell_type": "markdown",
   "id": "982cfbe4",
   "metadata": {},
   "source": [
    "## Scaling and Categorical Variables"
   ]
  },
  {
   "cell_type": "markdown",
   "id": "adb9580e",
   "metadata": {},
   "source": [
    "In the case of categorical data, you must convert it to numeric data, either by ranking (for an ordered factor) or by encoding as a set of binary (dummy) variables. If the data consists of mixed continuous and binary variables, you will usually want to scale the variables so that the ranges are similar. One popular method is to use **Gower's distance**."
   ]
  },
  {
   "cell_type": "markdown",
   "id": "f9c5cc9a",
   "metadata": {},
   "source": [
    "## Summary"
   ]
  },
  {
   "cell_type": "markdown",
   "id": "1e56a65f",
   "metadata": {},
   "source": [
    "For dimension reduction of numeric data, the main tools are either principal components analysis or K-means clustering. Both require attention to proper scaling of the data to ensure meaningful data reduction.\n",
    "\n",
    "For clustering with highly structured data in which the clusters are well separated, all methods will likely produce a similar result. Each method offers its own advantage. K-means scales to very large data and is easily understood. Hierarchical clustering can be applied to mixed data types—numeric and categorical—and lends itself to an intuitive display (the dendrogram). Model-based clustering is founded on statistical theory and provides a more rigorous approach, as opposed to the heuristic methods. For very large data, however, K-means is the main method used.\n",
    "\n",
    "With noisy data, such as the loan and stock data (and much of the data that a data scientist will face), the choice is more stark. K-means, hierarchical clustering, and especially model-based clustering all produce very different solutions. How should a data scientist proceed? Unfortunately, there is no simple rule of thumb to guide the choice. **Ultimately, the method used will depend on the data size and the goal of the\n",
    "application**."
   ]
  }
 ],
 "metadata": {
  "kernelspec": {
   "display_name": "Python 3 (ipykernel)",
   "language": "python",
   "name": "python3"
  },
  "language_info": {
   "codemirror_mode": {
    "name": "ipython",
    "version": 3
   },
   "file_extension": ".py",
   "mimetype": "text/x-python",
   "name": "python",
   "nbconvert_exporter": "python",
   "pygments_lexer": "ipython3",
   "version": "3.8.10"
  },
  "varInspector": {
   "cols": {
    "lenName": 16,
    "lenType": 16,
    "lenVar": 40
   },
   "kernels_config": {
    "python": {
     "delete_cmd_postfix": "",
     "delete_cmd_prefix": "del ",
     "library": "var_list.py",
     "varRefreshCmd": "print(var_dic_list())"
    },
    "r": {
     "delete_cmd_postfix": ") ",
     "delete_cmd_prefix": "rm(",
     "library": "var_list.r",
     "varRefreshCmd": "cat(var_dic_list()) "
    }
   },
   "types_to_exclude": [
    "module",
    "function",
    "builtin_function_or_method",
    "instance",
    "_Feature"
   ],
   "window_display": false
  }
 },
 "nbformat": 4,
 "nbformat_minor": 5
}
