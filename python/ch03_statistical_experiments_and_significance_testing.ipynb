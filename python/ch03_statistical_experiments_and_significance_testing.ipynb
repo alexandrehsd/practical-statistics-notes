{
 "cells": [
  {
   "cell_type": "markdown",
   "id": "1f7c6a6f",
   "metadata": {},
   "source": [
    "# Chapter 03 - Statistical Experiments and Significance Testing "
   ]
  },
  {
   "cell_type": "code",
   "execution_count": 1,
   "id": "cae3bb92",
   "metadata": {},
   "outputs": [],
   "source": [
    "import numpy as np\n",
    "import pandas as pd\n",
    "import matplotlib.pyplot as plt\n",
    "import seaborn as sns"
   ]
  },
  {
   "cell_type": "markdown",
   "id": "01ef4d80",
   "metadata": {},
   "source": [
    "## A/B Testing"
   ]
  },
  {
   "cell_type": "markdown",
   "id": "5da3e087",
   "metadata": {},
   "source": [
    "An A/B test is an experiment with two groups to establish which of two treatments, products, procedures, or the like is superior. Often one of the two treatments is the standard existing treatment, or no treatment. If a standard (or no) treatment is used, it is called the control. A typical hypothesis is that a new treatment is better than the control."
   ]
  },
  {
   "cell_type": "markdown",
   "id": "1e67f485",
   "metadata": {},
   "source": [
    "## Hypothesis Tests"
   ]
  },
  {
   "cell_type": "markdown",
   "id": "db1c0b71",
   "metadata": {},
   "source": [
    "The purpose of a hypothesis test is to help you learn whether random chance might be responsible for an observed effect. An A/B test is constructed based on a hypothesis.\n",
    "\n",
    "Important concepts in the hypothesis test framework is the null and the alternative hypothesis. The null hypothesis represents the status quo of a situation. It is essentially what we want to disprove. Meanwhile, the alternative hypothesis represents what we want to prove.\n",
    "\n",
    "The hypothesis test is performed using the model as if the null hypothesis is true. Then, it is evaluated if the outcome of the experiment is a reasonable outcome of that model."
   ]
  },
  {
   "cell_type": "markdown",
   "id": "de9cf92a",
   "metadata": {},
   "source": [
    "## Resampling"
   ]
  },
  {
   "cell_type": "markdown",
   "id": "59f4b2a2",
   "metadata": {},
   "source": [
    "Resampling in statistics means to repeatedly sample values from observed data, with the goal of **assessing random variability** in a statistic.\n",
    "\n",
    "There are two main types of resampling: **the bootstrap** (see chapter 02 notebook) and **permutation tests**.\n",
    "\n",
    "- The bootstrap is used to assess the reliability of an estimate.\n",
    "- Permutation tests are used to test hypothesis."
   ]
  },
  {
   "cell_type": "markdown",
   "id": "ae8f4c32",
   "metadata": {},
   "source": [
    "### Permutation Test"
   ]
  },
  {
   "cell_type": "markdown",
   "id": "db9b000a",
   "metadata": {},
   "source": [
    "\"The first step in a permutation test of a hypothesis is to combine the results from groups A and B (and, if used, C, D, ...). This is the logical embodiment of the null hypothesis that the treatments to which the groups were exposed do not differ. We then test that hypothesis by randomly drawing groups from this combined set and seeing how much they differ from one another.\n",
    "\n",
    "The procedure of a permutation test is as follows:\n",
    "\n",
    "1. Combine the results from the different groups into a single data set.\n",
    "2. Shuffle the combined data and then randomly draw (**without replacement**) a resample of the same size as group A (clearly it will contain some data from the other groups).\n",
    "3. From the remaining data, randomly draw (**without replacement**) a resample of the same size as group B.\n",
    "4. Do the same for groups C, D, and so on. You have now collected one set of resamples that mirror the sizes of the original samples.\n",
    "5. Whatever statistic or estimate was calculated for the original samples (e.g., difference in group proportions), calculate it now for the resamples, and record; this constitutes one permutation iteration.\n",
    "6. Repeat the previous steps R times to yield a permutation distribution of the test statistic.\n",
    "\n",
    "With the permutation distribution, we can go back to the observed difference between groups and compare it to the set of permuted differences. If the difference is statistiscally significant, we have successfully disproved the null hypothesis."
   ]
  },
  {
   "cell_type": "markdown",
   "id": "5f489bc8",
   "metadata": {},
   "source": [
    "### Example: Web Stickiness"
   ]
  },
  {
   "cell_type": "markdown",
   "id": "6fbfb45d",
   "metadata": {},
   "source": [
    "**Problem setup**\n",
    "\n",
    "A company selling a relatively high-value service wants to test which of two web presentations does a better selling job. Due to the high value of the service being sold, sales are infrequent and the sales cycle is lengthy; it would take too long to accumulate enough sales to know which presentation is superior. So the company decides to measure the results with a proxy variable, using the detailed interior page that describes the service.\n",
    "\n",
    "One potential proxy variable for our company is the number of clicks on the detailed landing page. A better one is how long people spend on the page. It is reasonable to think that a web presentation (page) that holds people’s attention longer will lead to more sales. Hence, our metric is average session time, comparing page A to page B."
   ]
  },
  {
   "cell_type": "code",
   "execution_count": 2,
   "id": "29d28856",
   "metadata": {},
   "outputs": [],
   "source": [
    "session_times = pd.read_csv(\"../data/web_page_data.csv\")\n",
    "session_times.Time = 100 * session_times.Time"
   ]
  },
  {
   "cell_type": "code",
   "execution_count": 3,
   "id": "d0930111",
   "metadata": {},
   "outputs": [
    {
     "data": {
      "image/png": "[encoded data removed]",
      "text/plain": [
       "<Figure size 432x288 with 1 Axes>"
      ]
     },
     "metadata": {
      "needs_background": "light"
     },
     "output_type": "display_data"
    }
   ],
   "source": [
    "ax = session_times.boxplot(by=\"Page\", column=\"Time\")\n",
    "ax.set_xlabel(\"\")\n",
    "ax.set_ylabel(\"Time (in seconds)\")\n",
    "plt.suptitle(\"\")\n",
    "\n",
    "plt.tight_layout()\n",
    "plt.show()"
   ]
  },
  {
   "cell_type": "code",
   "execution_count": 4,
   "id": "21a6bdd5",
   "metadata": {},
   "outputs": [],
   "source": [
    "mean_a = session_times[session_times[\"Page\"] == \"Page A\"][\"Time\"].mean()\n",
    "mean_b = session_times[session_times[\"Page\"] == \"Page B\"][\"Time\"].mean()"
   ]
  },
  {
   "cell_type": "code",
   "execution_count": 5,
   "id": "6db0faf4",
   "metadata": {},
   "outputs": [
    {
     "data": {
      "text/plain": [
       "35.66666666666667"
      ]
     },
     "execution_count": 5,
     "metadata": {},
     "output_type": "execute_result"
    }
   ],
   "source": [
    "mean_b - mean_a"
   ]
  },
  {
   "cell_type": "markdown",
   "id": "3ee2228e",
   "metadata": {},
   "source": [
    "We can see that the average session time of page B is greater than for page A by 35.67 seconds. The question if whether this difference is within the range of what random chance might produce. To answer that, we are going to use a permutation test."
   ]
  },
  {
   "cell_type": "code",
   "execution_count": 6,
   "id": "ba93cfd1",
   "metadata": {},
   "outputs": [],
   "source": [
    "import random\n",
    "\n",
    "def permutation_fn(times, size_a, size_b):\n",
    "    size = size_a + size_b\n",
    "    idx_b = set(random.sample(range(size), size_b))\n",
    "    idx_a = set(range(size)) - idx_b\n",
    "    return times.loc[list(idx_b)].mean() - times.loc[list(idx_a)].mean()"
   ]
  },
  {
   "cell_type": "code",
   "execution_count": 7,
   "id": "9b9931e3",
   "metadata": {},
   "outputs": [],
   "source": [
    "# get the permutation distribution\n",
    "counts = session_times[\"Page\"].value_counts()\n",
    "size_a, size_b = counts[\"Page A\"], counts[\"Page B\"]\n",
    "\n",
    "np.random.seed(1)\n",
    "perm_diffs = [permutation_fn(session_times.Time, size_a, size_b) for _ in range(1000) ]"
   ]
  },
  {
   "cell_type": "code",
   "execution_count": 8,
   "id": "48039581",
   "metadata": {},
   "outputs": [
    {
     "data": {
      "image/png": "[encoded data removed]",
      "text/plain": [
       "<Figure size 432x288 with 1 Axes>"
      ]
     },
     "metadata": {
      "needs_background": "light"
     },
     "output_type": "display_data"
    }
   ],
   "source": [
    "fig, ax = plt.subplots(1, 1)\n",
    "\n",
    "ax.hist(perm_diffs, bins=11, rwidth=0.9)\n",
    "ax.axvline(x = mean_b - mean_a, color = \"black\", lw=2, linestyle=\"--\")\n",
    "ax.text(50, 190, 'Observed\\ndifference', bbox={'facecolor':'white'})\n",
    "ax.set_xlabel('Session time differences (in seconds)')\n",
    "ax.set_ylabel('Frequency')\n",
    "\n",
    "plt.tight_layout()\n",
    "plt.show()"
   ]
  },
  {
   "cell_type": "markdown",
   "id": "8a7695af",
   "metadata": {},
   "source": [
    "In the histogram we can see that the mean difference of random permutations often exceeds the observed difference in session times (vertical line), and this happens 12.1% of the time as computed below:"
   ]
  },
  {
   "cell_type": "code",
   "execution_count": 9,
   "id": "546d03a5",
   "metadata": {},
   "outputs": [
    {
     "data": {
      "text/plain": [
       "0.126"
      ]
     },
     "execution_count": 9,
     "metadata": {},
     "output_type": "execute_result"
    }
   ],
   "source": [
    "# p-value of the permutation test\n",
    "np.mean(perm_diffs > mean_b - mean_a)"
   ]
  },
  {
   "cell_type": "markdown",
   "id": "11d37386",
   "metadata": {},
   "source": [
    "Therefore, we have evidence that the observed difference in session time between page A and page B is well within the range of chance variation and thus **is not statistically significant**."
   ]
  },
  {
   "cell_type": "markdown",
   "id": "0ca042a9",
   "metadata": {},
   "source": [
    "### Extra: Hypothesis Test using classical framework"
   ]
  },
  {
   "cell_type": "markdown",
   "id": "8ebf53a1",
   "metadata": {},
   "source": [
    "We performed a permutation test and verified that the results are not statistically significant. But one question I'm curious about is: what if I performed another test? So now, let's perform a classical hypothesis test. \n",
    "\n",
    "We want to check wheter the average session time for presentation B is greater than for presentation A. This setup characterizes a 2-sample 1-tailed t-test.\n",
    "\n",
    "\n",
    "Our hypothesis will be\n",
    "\n",
    "- $H_0$: $\\mu_b - \\mu_a = 0$\n",
    "- $H_1$: $\\mu_b - \\mu_a > 0$"
   ]
  },
  {
   "cell_type": "code",
   "execution_count": 10,
   "id": "796393a4",
   "metadata": {},
   "outputs": [
    {
     "data": {
      "text/html": [
       "<div>\n",
       "<style scoped>\n",
       "    .dataframe tbody tr th:only-of-type {\n",
       "        vertical-align: middle;\n",
       "    }\n",
       "\n",
       "    .dataframe tbody tr th {\n",
       "        vertical-align: top;\n",
       "    }\n",
       "\n",
       "    .dataframe thead tr th {\n",
       "        text-align: left;\n",
       "    }\n",
       "\n",
       "    .dataframe thead tr:last-of-type th {\n",
       "        text-align: right;\n",
       "    }\n",
       "</style>\n",
       "<table border=\"1\" class=\"dataframe\">\n",
       "  <thead>\n",
       "    <tr>\n",
       "      <th></th>\n",
       "      <th colspan=\"8\" halign=\"left\">Time</th>\n",
       "    </tr>\n",
       "    <tr>\n",
       "      <th></th>\n",
       "      <th>count</th>\n",
       "      <th>mean</th>\n",
       "      <th>std</th>\n",
       "      <th>min</th>\n",
       "      <th>25%</th>\n",
       "      <th>50%</th>\n",
       "      <th>75%</th>\n",
       "      <th>max</th>\n",
       "    </tr>\n",
       "    <tr>\n",
       "      <th>Page</th>\n",
       "      <th></th>\n",
       "      <th></th>\n",
       "      <th></th>\n",
       "      <th></th>\n",
       "      <th></th>\n",
       "      <th></th>\n",
       "      <th></th>\n",
       "      <th></th>\n",
       "    </tr>\n",
       "  </thead>\n",
       "  <tbody>\n",
       "    <tr>\n",
       "      <th>Page A</th>\n",
       "      <td>21.0</td>\n",
       "      <td>126.333333</td>\n",
       "      <td>88.463175</td>\n",
       "      <td>21.0</td>\n",
       "      <td>67.0</td>\n",
       "      <td>95.0</td>\n",
       "      <td>173.0</td>\n",
       "      <td>342.0</td>\n",
       "    </tr>\n",
       "    <tr>\n",
       "      <th>Page B</th>\n",
       "      <td>15.0</td>\n",
       "      <td>162.000000</td>\n",
       "      <td>101.136400</td>\n",
       "      <td>43.0</td>\n",
       "      <td>80.0</td>\n",
       "      <td>147.0</td>\n",
       "      <td>234.5</td>\n",
       "      <td>357.0</td>\n",
       "    </tr>\n",
       "  </tbody>\n",
       "</table>\n",
       "</div>"
      ],
      "text/plain": [
       "        Time                                                         \n",
       "       count        mean         std   min   25%    50%    75%    max\n",
       "Page                                                                 \n",
       "Page A  21.0  126.333333   88.463175  21.0  67.0   95.0  173.0  342.0\n",
       "Page B  15.0  162.000000  101.136400  43.0  80.0  147.0  234.5  357.0"
      ]
     },
     "execution_count": 10,
     "metadata": {},
     "output_type": "execute_result"
    }
   ],
   "source": [
    "# some descriptive statistics about the two samples\n",
    "session_times.groupby(\"Page\").describe()"
   ]
  },
  {
   "cell_type": "markdown",
   "id": "a527a326",
   "metadata": {},
   "source": [
    "A regular t-test statistic would be computed like this:\n",
    "\n",
    "$$\n",
    "t = \\frac{\\mu_b - \\mu_a}{SE} \\text{, where $SE = \\frac{s}{\\sqrt{n}}$ is the standard error}. \n",
    "$$"
   ]
  },
  {
   "cell_type": "markdown",
   "id": "4eabb629",
   "metadata": {},
   "source": [
    "As we are interested in the statistics describing the variance between the two samples, we need to take into account the standard errors of both samples. By assumption, we determine that the variances are equal, so we pool the standard errors using the following equation:\n",
    "\n",
    "$$\n",
    "SE_p = \\sqrt{\\frac{s_a^2}{n_a} + \\frac{s_b^2}{n_b}}\n",
    "$$\n",
    "\n",
    "and the degrees of freedom of the t distribution is $df = n_1 + n_2 - 2$."
   ]
  },
  {
   "cell_type": "code",
   "execution_count": 11,
   "id": "02400b65",
   "metadata": {},
   "outputs": [],
   "source": [
    "std_a = session_times[session_times[\"Page\"] == \"Page A\"][\"Time\"].std()\n",
    "std_b = session_times[session_times[\"Page\"] == \"Page B\"][\"Time\"].std()\n",
    "\n",
    "se_p = np.sqrt(std_a**2 / size_a + std_b**2 / size_b)\n",
    "t_statistic = (mean_b - mean_a) / se_p\n",
    "\n",
    "degrees_freedom = size_a + size_b - 2\n",
    "t_critical = 1.307"
   ]
  },
  {
   "cell_type": "code",
   "execution_count": 12,
   "id": "cb4c5b14",
   "metadata": {},
   "outputs": [
    {
     "data": {
      "text/plain": [
       "1.098315562363811"
      ]
     },
     "execution_count": 12,
     "metadata": {},
     "output_type": "execute_result"
    }
   ],
   "source": [
    "t_statistic"
   ]
  },
  {
   "cell_type": "code",
   "execution_count": 13,
   "id": "73e3bc89",
   "metadata": {},
   "outputs": [
    {
     "data": {
      "text/plain": [
       "True"
      ]
     },
     "execution_count": 13,
     "metadata": {},
     "output_type": "execute_result"
    }
   ],
   "source": [
    "t_statistic < t_critical"
   ]
  },
  {
   "cell_type": "markdown",
   "id": "38fdc12e",
   "metadata": {},
   "source": [
    "Since our test statistic is less than the critical value of the t-distribution at 10% significance level, we fail to reject the null hypothesis that there is no statistical difference between the sample means.\n",
    "\n",
    "Another way to check this result is to build a confidence interval around the mean of the difference between the means using the formula showed in the previous chapter:\n",
    "\n",
    "$$\n",
    "\\bar{x} \\pm t_{34}(0.1) \\frac{s}{\\sqrt{n}}\n",
    "$$"
   ]
  },
  {
   "cell_type": "code",
   "execution_count": 14,
   "id": "eaf7d2ad",
   "metadata": {},
   "outputs": [],
   "source": [
    "lower, upper = [(mean_b - mean_a) - t_critical*se_p, (mean_b - mean_a) + t_critical*se_p]"
   ]
  },
  {
   "cell_type": "code",
   "execution_count": 15,
   "id": "215af778",
   "metadata": {},
   "outputs": [
    {
     "data": {
      "text/plain": [
       "(-6.776812175611568, 78.11014550894491)"
      ]
     },
     "execution_count": 15,
     "metadata": {},
     "output_type": "execute_result"
    }
   ],
   "source": [
    "lower, upper"
   ]
  },
  {
   "cell_type": "markdown",
   "id": "ab245d94",
   "metadata": {},
   "source": [
    "As the lower bound is a negative number, and the upper bound is a positive number, the confidence encompass zero indicating that zero (our hypothesized difference) is a valid estimate of the mean difference between the two samples. This conclusion is obviously the same as the previous test, and we would treat our null hypothesis in the same way."
   ]
  },
  {
   "cell_type": "markdown",
   "id": "4bb3bca0",
   "metadata": {},
   "source": [
    "In addition, we can also compute the p-value for this test statistic:"
   ]
  },
  {
   "cell_type": "code",
   "execution_count": 16,
   "id": "3e256be8",
   "metadata": {},
   "outputs": [
    {
     "data": {
      "text/plain": [
       "0.13989195118925815"
      ]
     },
     "execution_count": 16,
     "metadata": {},
     "output_type": "execute_result"
    }
   ],
   "source": [
    "# comput p-value\n",
    "from scipy import stats\n",
    "\n",
    "stats.t.sf(t_statistic, df=degrees_freedom)"
   ]
  },
  {
   "cell_type": "markdown",
   "id": "9ec7feee",
   "metadata": {},
   "source": [
    "As the result suggests, the evidence is that results are not statistically significant at the 10% significance level of the test."
   ]
  },
  {
   "cell_type": "markdown",
   "id": "d0cfe012",
   "metadata": {},
   "source": [
    "## Statistical Significance and p-Values"
   ]
  },
  {
   "cell_type": "markdown",
   "id": "e977ce70",
   "metadata": {},
   "source": [
    "Statistical significance is how statisticians measure whether an experiment (or even a study of existing data) yields a result more extreme than what chance might produce.\n",
    "\n",
    "Important concepts to keep in mind in this setting are:\n",
    "\n",
    "**p-value**\n",
    "Given a model built under the null hypothesis, i.e. assuming the null is true, the p-value is the probability of obtaining results as unusual or extreme as the observed results.\n",
    "\n",
    "**alpha**\n",
    "The probability threshold of “unusualness” that chance results must surpass for actual outcomes to be deemed statistically significant."
   ]
  },
  {
   "cell_type": "markdown",
   "id": "e4bcb177",
   "metadata": {},
   "source": [
    "Now consider the following dataset \n",
    "\n",
    "| outcome | Price A | Price B |\n",
    "|---------|---------|---------|\n",
    "| conversion | 200 | 182 |\n",
    "| No conversion | 23539 | 22406 |\n",
    "\n",
    "displaying the results of the web test discussed ealier with presentations A and B. Price A converts almost 5% better than price B ($0.8425\\% = 200/(23539+200)*100$, versus $0.8057\\% = 182/(22406+182)*100$ - a difference of 0.0368 percentage points), big enough to be meaningful in a high-volume business.\n",
    "\n",
    "The following permutation procedure asks, \"If the two prices share the same conversion rate, could chance variation produce a difference as big as 5%?\":\n"
   ]
  },
  {
   "cell_type": "markdown",
   "id": "d9a4d4eb",
   "metadata": {},
   "source": [
    "1. Put cards labeled 1 and 0 in a box: this represents the supposed shared conversion rate of 382 ones and 45,945 zeros = 0.008246 = 0.8246%.\n",
    "2. Shuffle and draw out a resample of size 23,739 (same n as price A), and record how many 1s.\n",
    "3. Record the number of 1s in the remaining 22,588 (same n as price B).\n",
    "4. Record the difference in proportion of 1s.\n",
    "5. Repeat steps 2–4.\n",
    "6. How often was the difference $\\ge$ 0.0368?"
   ]
  },
  {
   "cell_type": "code",
   "execution_count": 17,
   "id": "d9e0345c",
   "metadata": {},
   "outputs": [
    {
     "data": {
      "text/plain": [
       "0.036048710699681207"
      ]
     },
     "execution_count": 17,
     "metadata": {},
     "output_type": "execute_result"
    }
   ],
   "source": [
    "obs_pct_diff = 100 * (200 / 23759 - 182 / 22588)\n",
    "obs_pct_diff"
   ]
  },
  {
   "cell_type": "code",
   "execution_count": 18,
   "id": "1485283f",
   "metadata": {},
   "outputs": [],
   "source": [
    "conversion = [0] * 45945\n",
    "conversion.extend([1] * 382)\n",
    "conversion = pd.Series(conversion)"
   ]
  },
  {
   "cell_type": "code",
   "execution_count": 19,
   "id": "6a050b65",
   "metadata": {},
   "outputs": [],
   "source": [
    "np.random.seed(1)\n",
    "perm_diffs = [100 * permutation_fn(conversion, 23739, 22588) for _ in range(1000)]"
   ]
  },
  {
   "cell_type": "code",
   "execution_count": 20,
   "id": "99e58741",
   "metadata": {},
   "outputs": [
    {
     "data": {
      "image/png": "[encoded data removed]",
      "text/plain": [
       "<Figure size 360x360 with 1 Axes>"
      ]
     },
     "metadata": {
      "needs_background": "light"
     },
     "output_type": "display_data"
    }
   ],
   "source": [
    "fig, ax = plt.subplots(figsize=(5, 5))\n",
    "\n",
    "ax.hist(perm_diffs, bins=11, rwidth=0.9)\n",
    "ax.axvline(x=obs_pct_diff, color='black', lw=2, linestyle=\"--\")\n",
    "ax.text(0.06, 200, 'Observed\\ndifference', bbox={'facecolor':'white'})\n",
    "ax.set_xlabel('Conversion rate (percent)')\n",
    "ax.set_ylabel('Frequency')\n",
    "\n",
    "plt.tight_layout()\n",
    "plt.show()"
   ]
  },
  {
   "cell_type": "markdown",
   "id": "a8cdfa18",
   "metadata": {},
   "source": [
    "As it happens, in this case the observed difference of 0.0360% is well within the range of chance variation."
   ]
  },
  {
   "cell_type": "markdown",
   "id": "ff97e5b3",
   "metadata": {},
   "source": [
    "### p-value"
   ]
  },
  {
   "cell_type": "markdown",
   "id": "c923611e",
   "metadata": {},
   "source": [
    "Simply looking at the distribution might be tricky some times. A better way of assessing statistical significance is using the p-value. The p-value of a permutation test is computed by taking the proportion of times that the permutation test produces a difference equal to or greater than the observed difference."
   ]
  },
  {
   "cell_type": "code",
   "execution_count": 21,
   "id": "41079748",
   "metadata": {},
   "outputs": [
    {
     "data": {
      "text/plain": [
       "0.338"
      ]
     },
     "execution_count": 21,
     "metadata": {},
     "output_type": "execute_result"
    }
   ],
   "source": [
    "np.mean([diff > obs_pct_diff for diff in perm_diffs])"
   ]
  },
  {
   "cell_type": "markdown",
   "id": "7885f98e",
   "metadata": {},
   "source": [
    "The p-value is 0.31, which means that we would expect to achieve a result as extreme as this, or a more extreme result, by random chance over 31% of the time."
   ]
  },
  {
   "cell_type": "code",
   "execution_count": 22,
   "id": "0fa069aa",
   "metadata": {},
   "outputs": [
    {
     "name": "stdout",
     "output_type": "stream",
     "text": [
      "p-value for single sided test: 0.3498\n"
     ]
    }
   ],
   "source": [
    "survivors = np.array([[200, 23739 - 200], [182, 22588 - 182]])\n",
    "chi2, p_value, df, _ = stats.chi2_contingency(survivors)\n",
    "\n",
    "print(f'p-value for single sided test: {p_value / 2:.4f}')"
   ]
  },
  {
   "cell_type": "markdown",
   "id": "8545cddf",
   "metadata": {},
   "source": [
    "The normal approximation yields a p-value of 0.3498, which is close to the p-value obtained from the permutation test."
   ]
  },
  {
   "cell_type": "markdown",
   "id": "f6b111d0",
   "metadata": {},
   "source": [
    "## t-Tests"
   ]
  },
  {
   "cell_type": "markdown",
   "id": "5c7f8d7d",
   "metadata": {},
   "source": [
    "In a resampling test, the scale of the data does not matter. You create the reference (null hypothesis) distribution from the data itself and use the test statistic as is. However, resampling test waw not practical in the early 20th century. Moreover, Statisticians found that a **good approximation to the permutation (shuffled) distribution was the t-test**, based on Gosset’s t-distribution. It is used for the very common two-sample comparison—A/B test—in which the data is numeric.\n",
    "\n"
   ]
  },
  {
   "cell_type": "code",
   "execution_count": 23,
   "id": "ab046f7e",
   "metadata": {},
   "outputs": [
    {
     "name": "stdout",
     "output_type": "stream",
     "text": [
      "p-value for single sided test: 0.1408\n"
     ]
    }
   ],
   "source": [
    "from scipy import stats\n",
    "\n",
    "res = stats.ttest_ind(session_times[session_times[\"Page\"] == \"Page A\"][\"Time\"],\n",
    "                      session_times[session_times[\"Page\"] == \"Page B\"][\"Time\"],\n",
    "                      equal_var=False)\n",
    "\n",
    "print(f'p-value for single sided test: {res.pvalue / 2:.4f}')"
   ]
  },
  {
   "cell_type": "markdown",
   "id": "4932f4a1",
   "metadata": {},
   "source": [
    "The p-value of 0.1408 is close to the permutation test p-value of 0.121."
   ]
  },
  {
   "cell_type": "code",
   "execution_count": 24,
   "id": "bb38f74d",
   "metadata": {},
   "outputs": [
    {
     "data": {
      "text/plain": [
       "Ttest_indResult(statistic=-1.098315562363811, pvalue=0.2815243724570061)"
      ]
     },
     "execution_count": 24,
     "metadata": {},
     "output_type": "execute_result"
    }
   ],
   "source": [
    "res"
   ]
  },
  {
   "cell_type": "markdown",
   "id": "4bce0ddd",
   "metadata": {},
   "source": [
    "## ANOVA"
   ]
  },
  {
   "cell_type": "markdown",
   "id": "37733b3d",
   "metadata": {},
   "source": [
    "Suppose that instead of an A/B test, we wanted to compare multiple groups, say A/B/C/D, each with numeric data. The procedure that tests for statistical significance difference among groups is called analysis of variance, or ANOVA."
   ]
  },
  {
   "cell_type": "code",
   "execution_count": 25,
   "id": "e427135e",
   "metadata": {},
   "outputs": [],
   "source": [
    "four_sessions = pd.read_csv(\"../data/four_sessions.csv\")"
   ]
  },
  {
   "cell_type": "code",
   "execution_count": 28,
   "id": "2c6c17de",
   "metadata": {},
   "outputs": [
    {
     "data": {
      "text/html": [
       "<div>\n",
       "<style scoped>\n",
       "    .dataframe tbody tr th:only-of-type {\n",
       "        vertical-align: middle;\n",
       "    }\n",
       "\n",
       "    .dataframe tbody tr th {\n",
       "        vertical-align: top;\n",
       "    }\n",
       "\n",
       "    .dataframe thead th {\n",
       "        text-align: right;\n",
       "    }\n",
       "</style>\n",
       "<table border=\"1\" class=\"dataframe\">\n",
       "  <thead>\n",
       "    <tr style=\"text-align: right;\">\n",
       "      <th></th>\n",
       "      <th>Page</th>\n",
       "      <th>Time</th>\n",
       "    </tr>\n",
       "  </thead>\n",
       "  <tbody>\n",
       "    <tr>\n",
       "      <th>0</th>\n",
       "      <td>Page 1</td>\n",
       "      <td>164</td>\n",
       "    </tr>\n",
       "    <tr>\n",
       "      <th>1</th>\n",
       "      <td>Page 2</td>\n",
       "      <td>178</td>\n",
       "    </tr>\n",
       "    <tr>\n",
       "      <th>2</th>\n",
       "      <td>Page 3</td>\n",
       "      <td>175</td>\n",
       "    </tr>\n",
       "    <tr>\n",
       "      <th>3</th>\n",
       "      <td>Page 4</td>\n",
       "      <td>155</td>\n",
       "    </tr>\n",
       "    <tr>\n",
       "      <th>4</th>\n",
       "      <td>Page 1</td>\n",
       "      <td>172</td>\n",
       "    </tr>\n",
       "  </tbody>\n",
       "</table>\n",
       "</div>"
      ],
      "text/plain": [
       "     Page  Time\n",
       "0  Page 1   164\n",
       "1  Page 2   178\n",
       "2  Page 3   175\n",
       "3  Page 4   155\n",
       "4  Page 1   172"
      ]
     },
     "execution_count": 28,
     "metadata": {},
     "output_type": "execute_result"
    }
   ],
   "source": [
    "four_sessions.head()"
   ]
  },
  {
   "cell_type": "code",
   "execution_count": 31,
   "id": "57f982eb",
   "metadata": {},
   "outputs": [
    {
     "data": {
      "text/html": [
       "<div>\n",
       "<style scoped>\n",
       "    .dataframe tbody tr th:only-of-type {\n",
       "        vertical-align: middle;\n",
       "    }\n",
       "\n",
       "    .dataframe tbody tr th {\n",
       "        vertical-align: top;\n",
       "    }\n",
       "\n",
       "    .dataframe thead th {\n",
       "        text-align: right;\n",
       "    }\n",
       "</style>\n",
       "<table border=\"1\" class=\"dataframe\">\n",
       "  <thead>\n",
       "    <tr style=\"text-align: right;\">\n",
       "      <th></th>\n",
       "      <th>Time</th>\n",
       "    </tr>\n",
       "    <tr>\n",
       "      <th>Page</th>\n",
       "      <th></th>\n",
       "    </tr>\n",
       "  </thead>\n",
       "  <tbody>\n",
       "    <tr>\n",
       "      <th>Page 1</th>\n",
       "      <td>172.8</td>\n",
       "    </tr>\n",
       "    <tr>\n",
       "      <th>Page 2</th>\n",
       "      <td>182.6</td>\n",
       "    </tr>\n",
       "    <tr>\n",
       "      <th>Page 3</th>\n",
       "      <td>175.6</td>\n",
       "    </tr>\n",
       "    <tr>\n",
       "      <th>Page 4</th>\n",
       "      <td>164.6</td>\n",
       "    </tr>\n",
       "  </tbody>\n",
       "</table>\n",
       "</div>"
      ],
      "text/plain": [
       "         Time\n",
       "Page         \n",
       "Page 1  172.8\n",
       "Page 2  182.6\n",
       "Page 3  175.6\n",
       "Page 4  164.6"
      ]
     },
     "execution_count": 31,
     "metadata": {},
     "output_type": "execute_result"
    }
   ],
   "source": [
    "four_sessions.groupby(\"Page\").mean()"
   ]
  },
  {
   "cell_type": "code",
   "execution_count": 30,
   "id": "64e72e72",
   "metadata": {},
   "outputs": [
    {
     "data": {
      "image/png": "[encoded data removed]",
      "text/plain": [
       "<Figure size 288x288 with 1 Axes>"
      ]
     },
     "metadata": {
      "needs_background": "light"
     },
     "output_type": "display_data"
    }
   ],
   "source": [
    "ax = four_sessions.boxplot(by='Page', column='Time',\n",
    "                           figsize=(4, 4))\n",
    "ax.set_xlabel('Page')\n",
    "ax.set_ylabel('Time (in seconds)')\n",
    "plt.suptitle('')\n",
    "plt.title('')\n",
    "\n",
    "plt.tight_layout()\n",
    "plt.show()"
   ]
  },
  {
   "cell_type": "markdown",
   "id": "504b0fb9",
   "metadata": {},
   "source": [
    "To make comparisons between groups, we could perform a pairwise comparison. However, there are six pairwise combinations of groups. The more such pairwise comparisons we make, the greater the potential for being fooled by random chance. So, we could perform just one test that addresses the question: \n",
    "\n",
    "\"Could all the pages have the same underlying stickiness, and the differences among them be due to the ran‐\n",
    "dom way in which a common set of session times got allocated among the four pages?\"\n",
    "\n",
    "The procedure used to test this is ANOVA. The basis for it can be seen in the following resampling procedure (specified here for the A/B/C/D test of web page stickiness):\n",
    "\n",
    "1. Combine all the data together in a single box.\n",
    "2. Shuffle and draw out four resamples of five values each. \n",
    "3. Record the mean of each of the four groups.\n",
    "4. Record the variance among the four group means.\n",
    "5. Repeat steps 2–4 many (say, 1,000) times.\n",
    "\n",
    "The p-value is given by the proportion of the time that the resampled variance exceeded the observed variance."
   ]
  },
  {
   "cell_type": "code",
   "execution_count": 36,
   "id": "144b717e",
   "metadata": {},
   "outputs": [
    {
     "name": "stdout",
     "output_type": "stream",
     "text": [
      "Observed means: [172.8 182.6 175.6 164.6]\n",
      "Variance: 55.426666666666655\n"
     ]
    }
   ],
   "source": [
    "observed_variance = four_sessions.groupby(\"Page\").mean().var()[0]\n",
    "\n",
    "print('Observed means:', four_sessions.groupby('Page').mean().values.ravel())\n",
    "print('Variance:', observed_variance)"
   ]
  },
  {
   "cell_type": "code",
   "execution_count": 37,
   "id": "ab31232d",
   "metadata": {},
   "outputs": [],
   "source": [
    "def permutation_test_anova(data):\n",
    "    data = data.copy()\n",
    "    data[\"Time\"] = np.random.permutation(data[\"Time\"].values)\n",
    "    return data.groupby(\"Page\").mean().var()[0]"
   ]
  },
  {
   "cell_type": "code",
   "execution_count": 39,
   "id": "f75ad172",
   "metadata": {},
   "outputs": [
    {
     "name": "stdout",
     "output_type": "stream",
     "text": [
      "Pr(Prob) 0.08433333333333333\n"
     ]
    }
   ],
   "source": [
    "np.random.seed(1)\n",
    "permutation_var = [permutation_test_anova(four_sessions) for _ in range(3000)]\n",
    "print('Pr(Prob)', np.mean([var > observed_variance for var in permutation_var]))"
   ]
  },
  {
   "cell_type": "markdown",
   "id": "904fe43d",
   "metadata": {},
   "source": [
    "Therefore, under the 5% significance level, we failed to reject the null hypothesis of the test."
   ]
  },
  {
   "cell_type": "markdown",
   "id": "b2f10303",
   "metadata": {},
   "source": [
    "### F-Statistic"
   ]
  },
  {
   "cell_type": "markdown",
   "id": "e95e2c08",
   "metadata": {},
   "source": [
    "**Just like the t-test can be used instead of a permutation test for comparing the mean of two groups, there is a statistical test for ANOVA based on the F-statistic**. The F-statistic is based on the ratio of the variance across group means (i.e., the treatment effect) to the variance due to residual error. The higher this ratio, the more statistically significant the result."
   ]
  },
  {
   "cell_type": "code",
   "execution_count": 40,
   "id": "7e679e0a",
   "metadata": {},
   "outputs": [],
   "source": [
    "import statsmodels.api as sm\n",
    "import statsmodels.formula.api as smf"
   ]
  },
  {
   "cell_type": "code",
   "execution_count": 41,
   "id": "9f4c6102",
   "metadata": {},
   "outputs": [
    {
     "data": {
      "text/html": [
       "<div>\n",
       "<style scoped>\n",
       "    .dataframe tbody tr th:only-of-type {\n",
       "        vertical-align: middle;\n",
       "    }\n",
       "\n",
       "    .dataframe tbody tr th {\n",
       "        vertical-align: top;\n",
       "    }\n",
       "\n",
       "    .dataframe thead th {\n",
       "        text-align: right;\n",
       "    }\n",
       "</style>\n",
       "<table border=\"1\" class=\"dataframe\">\n",
       "  <thead>\n",
       "    <tr style=\"text-align: right;\">\n",
       "      <th></th>\n",
       "      <th>df</th>\n",
       "      <th>sum_sq</th>\n",
       "      <th>mean_sq</th>\n",
       "      <th>F</th>\n",
       "      <th>PR(&gt;F)</th>\n",
       "    </tr>\n",
       "  </thead>\n",
       "  <tbody>\n",
       "    <tr>\n",
       "      <th>Page</th>\n",
       "      <td>3.0</td>\n",
       "      <td>831.4</td>\n",
       "      <td>277.133333</td>\n",
       "      <td>2.739825</td>\n",
       "      <td>0.077586</td>\n",
       "    </tr>\n",
       "    <tr>\n",
       "      <th>Residual</th>\n",
       "      <td>16.0</td>\n",
       "      <td>1618.4</td>\n",
       "      <td>101.150000</td>\n",
       "      <td>NaN</td>\n",
       "      <td>NaN</td>\n",
       "    </tr>\n",
       "  </tbody>\n",
       "</table>\n",
       "</div>"
      ],
      "text/plain": [
       "            df  sum_sq     mean_sq         F    PR(>F)\n",
       "Page       3.0   831.4  277.133333  2.739825  0.077586\n",
       "Residual  16.0  1618.4  101.150000       NaN       NaN"
      ]
     },
     "execution_count": 41,
     "metadata": {},
     "output_type": "execute_result"
    }
   ],
   "source": [
    "model = smf.ols(\"Time ~ Page\", data=four_sessions).fit()\n",
    "\n",
    "aov_table = sm.stats.anova_lm(model)\n",
    "aov_table"
   ]
  },
  {
   "cell_type": "code",
   "execution_count": 43,
   "id": "2cc13987",
   "metadata": {},
   "outputs": [
    {
     "data": {
      "text/plain": [
       "2.739825341901452"
      ]
     },
     "execution_count": 43,
     "metadata": {},
     "output_type": "execute_result"
    }
   ],
   "source": [
    "# F value\n",
    "aov_table[\"mean_sq\"][0] / aov_table[\"mean_sq\"][1]"
   ]
  },
  {
   "cell_type": "markdown",
   "id": "a74fe583",
   "metadata": {},
   "source": [
    "Note that the p-value for the F-test, 0.0776 is closer to the one obtained using ANOVA, 0.0843. Both tests failed to reject the Null Hypothesis under 5% confidence level."
   ]
  },
  {
   "cell_type": "markdown",
   "id": "56356358",
   "metadata": {},
   "source": [
    "The key ideias from this section are:\n",
    "\n",
    "- ANOVA is a statistical procedure for analyzing the results of an experiment with multiple groups.\n",
    "- It is the extension of similar procedures for the A/B test, used to assess whether the overall variation among groups is within the range of chance variation."
   ]
  },
  {
   "cell_type": "markdown",
   "id": "0fa63815",
   "metadata": {},
   "source": [
    "## Chi-Square Test"
   ]
  },
  {
   "cell_type": "markdown",
   "id": "f3bf558b",
   "metadata": {},
   "source": [
    "The chi-square test is used with count data to test how well it fits some expected distribution. The most common use of the chi-square statistic in statistical practice is with r × c (rows by columns) contingency tables, to assess whether the null hypothesis of independence among variables is reasonable."
   ]
  },
  {
   "cell_type": "markdown",
   "id": "25fe3003",
   "metadata": {},
   "source": [
    "### Chi-Square Test: A Resampling  Approach"
   ]
  },
  {
   "cell_type": "code",
   "execution_count": 45,
   "id": "49b8e33c",
   "metadata": {},
   "outputs": [
    {
     "data": {
      "text/html": [
       "<div>\n",
       "<style scoped>\n",
       "    .dataframe tbody tr th:only-of-type {\n",
       "        vertical-align: middle;\n",
       "    }\n",
       "\n",
       "    .dataframe tbody tr th {\n",
       "        vertical-align: top;\n",
       "    }\n",
       "\n",
       "    .dataframe thead th {\n",
       "        text-align: right;\n",
       "    }\n",
       "</style>\n",
       "<table border=\"1\" class=\"dataframe\">\n",
       "  <thead>\n",
       "    <tr style=\"text-align: right;\">\n",
       "      <th>Headline</th>\n",
       "      <th>Headline A</th>\n",
       "      <th>Headline B</th>\n",
       "      <th>Headline C</th>\n",
       "    </tr>\n",
       "    <tr>\n",
       "      <th>Click</th>\n",
       "      <th></th>\n",
       "      <th></th>\n",
       "      <th></th>\n",
       "    </tr>\n",
       "  </thead>\n",
       "  <tbody>\n",
       "    <tr>\n",
       "      <th>Click</th>\n",
       "      <td>14</td>\n",
       "      <td>8</td>\n",
       "      <td>12</td>\n",
       "    </tr>\n",
       "    <tr>\n",
       "      <th>No-click</th>\n",
       "      <td>986</td>\n",
       "      <td>992</td>\n",
       "      <td>988</td>\n",
       "    </tr>\n",
       "  </tbody>\n",
       "</table>\n",
       "</div>"
      ],
      "text/plain": [
       "Headline  Headline A  Headline B  Headline C\n",
       "Click                                       \n",
       "Click             14           8          12\n",
       "No-click         986         992         988"
      ]
     },
     "execution_count": 45,
     "metadata": {},
     "output_type": "execute_result"
    }
   ],
   "source": [
    "click_rate = pd.read_csv(\"../data/click_rates.csv\")\n",
    "clicks = click_rate.pivot(index='Click', columns='Headline', values='Rate')\n",
    "clicks"
   ]
  },
  {
   "cell_type": "markdown",
   "id": "64905eba",
   "metadata": {},
   "source": [
    "A resampling procedure can test whether the click rates differ to an extent greater than chance might cause. We can perform the test using this resampling algorithm:\n",
    "\n",
    "1. Constitute a box with 34 ones (clicks) and 2,966 zeros (no clicks).\n",
    "2. Shuffle, take three separate samples of 1,000, and count the clicks in each.\n",
    "3. Find the squared differences between the shuffled counts and the expected counts and sum them.\n",
    "4. Repeat steps 2 and 3, say, 1,000 times.\n",
    "5. How often does the resampled sum of squared deviations exceed the observed? That’s the p-value."
   ]
  },
  {
   "cell_type": "code",
   "execution_count": 47,
   "id": "cc62278a",
   "metadata": {},
   "outputs": [
    {
     "name": "stdout",
     "output_type": "stream",
     "text": [
      "Observed chi2: 1.6659\n",
      "Resampled p-value: 0.4810\n"
     ]
    }
   ],
   "source": [
    "box = [1] * 34\n",
    "box.extend([0] * 2966)\n",
    "random.shuffle(box)\n",
    "\n",
    "def chi2(observed, expected):\n",
    "    pearson_residuals = []\n",
    "    for row, expect in zip(observed, expected):\n",
    "        pearson_residuals.append([(observe - expect) ** 2 / expect\n",
    "                                  for observe in row])\n",
    "    # return sum of squares\n",
    "    return np.sum(pearson_residuals)\n",
    "\n",
    "expected_clicks = 34 / 3\n",
    "expected_noclicks = 1000 - expected_clicks\n",
    "expected = [34 / 3, 1000 - 34 / 3]\n",
    "chi2observed = chi2(clicks.values, expected)\n",
    "\n",
    "def perm_fun(box):\n",
    "    sample_clicks = [sum(random.sample(box, 1000)),\n",
    "                     sum(random.sample(box, 1000)),\n",
    "                     sum(random.sample(box, 1000))]\n",
    "    sample_noclicks = [1000 - n for n in sample_clicks]\n",
    "    return chi2([sample_clicks, sample_noclicks], expected)\n",
    "\n",
    "perm_chi2 = [perm_fun(box) for _ in range(2000)]\n",
    "\n",
    "resampled_p_value = sum(perm_chi2 > chi2observed) / len(perm_chi2)\n",
    "print(f'Observed chi2: {chi2observed:.4f}')\n",
    "print(f'Resampled p-value: {resampled_p_value:.4f}')"
   ]
  },
  {
   "cell_type": "markdown",
   "id": "af40c8f1",
   "metadata": {},
   "source": [
    "The results suggests that it is reasonable to think that chance may produce the values we observed. "
   ]
  },
  {
   "cell_type": "markdown",
   "id": "ed5ec15b",
   "metadata": {},
   "source": [
    "### Chi-Square Test: Statistical Theory"
   ]
  },
  {
   "cell_type": "markdown",
   "id": "96651700",
   "metadata": {},
   "source": [
    "Asymptotic statistical theory shows that the distribution of the chi-square statistic can be approximated by a chi-square distribution."
   ]
  },
  {
   "cell_type": "code",
   "execution_count": 48,
   "id": "4a7547e2",
   "metadata": {},
   "outputs": [
    {
     "name": "stdout",
     "output_type": "stream",
     "text": [
      "Observed chi2: 1.6659\n",
      "p-value: 0.4348\n"
     ]
    }
   ],
   "source": [
    "chisq, pvalue, df, expected = stats.chi2_contingency(clicks)\n",
    "print(f'Observed chi2: {chisq:.4f}')\n",
    "print(f'p-value: {pvalue:.4f}')"
   ]
  },
  {
   "cell_type": "markdown",
   "id": "e70ae7b8",
   "metadata": {},
   "source": [
    "The values of the `observed chi2` test were computed using `stats.chi2_contingency` function, which uses the chi-square distribution to compute the p-value. Note that the p-value is a little less than the resampling p-value. That is due to the fact that the chi-square distribution is only an approximation of the actual distribution of the statistic."
   ]
  },
  {
   "cell_type": "markdown",
   "id": "6b914394",
   "metadata": {},
   "source": [
    "### Fisher's Exact Test"
   ]
  },
  {
   "cell_type": "markdown",
   "id": "9c56cdec",
   "metadata": {},
   "source": [
    "The chi-square distribution is a good approximation of the shuffled resampling test just described, except when counts are extremely low (single digits, especially five or fewer). In such cases, the resampling procedure will yield more accurate p-values. In fact, most statistical software has a procedure to actually enumerate all the possible rearrangements (permutations) that can occur, tabulate their frequencies, and determine exactly how extreme the observed result is. This is called Fisher’s exact test after the great statistician R. A. Fisher."
   ]
  },
  {
   "cell_type": "code",
   "execution_count": null,
   "id": "0a08934c",
   "metadata": {},
   "outputs": [],
   "source": []
  }
 ],
 "metadata": {
  "kernelspec": {
   "display_name": "Python 3 (ipykernel)",
   "language": "python",
   "name": "python3"
  },
  "language_info": {
   "codemirror_mode": {
    "name": "ipython",
    "version": 3
   },
   "file_extension": ".py",
   "mimetype": "text/x-python",
   "name": "python",
   "nbconvert_exporter": "python",
   "pygments_lexer": "ipython3",
   "version": "3.8.10"
  },
  "varInspector": {
   "cols": {
    "lenName": 16,
    "lenType": 16,
    "lenVar": 40
   },
   "kernels_config": {
    "python": {
     "delete_cmd_postfix": "",
     "delete_cmd_prefix": "del ",
     "library": "var_list.py",
     "varRefreshCmd": "print(var_dic_list())"
    },
    "r": {
     "delete_cmd_postfix": ") ",
     "delete_cmd_prefix": "rm(",
     "library": "var_list.r",
     "varRefreshCmd": "cat(var_dic_list()) "
    }
   },
   "types_to_exclude": [
    "module",
    "function",
    "builtin_function_or_method",
    "instance",
    "_Feature"
   ],
   "window_display": false
  }
 },
 "nbformat": 4,
 "nbformat_minor": 5
}
