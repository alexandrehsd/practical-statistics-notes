{
 "cells": [
  {
   "cell_type": "markdown",
   "id": "1f7c6a6f",
   "metadata": {},
   "source": [
    "# Chapter 03 - Statistical Experiments and Significance Testing "
   ]
  },
  {
   "cell_type": "code",
   "execution_count": 2,
   "id": "cae3bb92",
   "metadata": {},
   "outputs": [],
   "source": [
    "import numpy as np\n",
    "import pandas as pd\n",
    "import matplotlib.pyplot as plt\n",
    "import seaborn as sns"
   ]
  },
  {
   "cell_type": "markdown",
   "id": "01ef4d80",
   "metadata": {},
   "source": [
    "## A/B Testing"
   ]
  },
  {
   "cell_type": "markdown",
   "id": "5da3e087",
   "metadata": {},
   "source": [
    "An A/B test is an experiment with two groups to establish which of two treatments, products, procedures, or the like is superior. Often one of the two treatments is the standard existing treatment, or no treatment. If a standard (or no) treatment is used, it is called the control. A typical hypothesis is that a new treatment is better than the control."
   ]
  },
  {
   "cell_type": "markdown",
   "id": "1e67f485",
   "metadata": {},
   "source": [
    "## Hypothesis Tests"
   ]
  },
  {
   "cell_type": "markdown",
   "id": "db1c0b71",
   "metadata": {},
   "source": [
    "The purpose of a hypothesis test is to help you learn whether random chance might be responsible for an observed effect. An A/B test is constructed based on a hypothesis.\n",
    "\n",
    "Important concepts in the hypothesis test framework is the null and the alternative hypothesis. The null hypothesis represents the status quo of a situation. It is essentially what we want to disprove. Meanwhile, the alternative hypothesis represents what we want to prove.\n",
    "\n",
    "The hypothesis test is performed using the model as if the null hypothesis is true. Then, it is evaluated if the outcome of the experiment is a reasonable outcome of that model."
   ]
  },
  {
   "cell_type": "markdown",
   "id": "de9cf92a",
   "metadata": {},
   "source": [
    "## Resampling"
   ]
  },
  {
   "cell_type": "markdown",
   "id": "59f4b2a2",
   "metadata": {},
   "source": [
    "Resampling in statistics means to repeatedly sample values from observed data, with the goal of **assessing random variability** in a statistic.\n",
    "\n",
    "There are two main types of resampling: **the bootstrap** (see chapter 02 notebook) and **permutation tests**.\n",
    "\n",
    "- The bootstrap is used to assess the reliability of an estimate.\n",
    "- Permutation tests are used to test hypothesis."
   ]
  },
  {
   "cell_type": "markdown",
   "id": "ae8f4c32",
   "metadata": {},
   "source": [
    "### Permutation Test"
   ]
  },
  {
   "cell_type": "markdown",
   "id": "db9b000a",
   "metadata": {},
   "source": [
    "\"The first step in a permutation test of a hypothesis is to combine the results from groups A and B (and, if used, C, D, ...). This is the logical embodiment of the null hypothesis that the treatments to which the groups were exposed do not differ. We then test that hypothesis by randomly drawing groups from this combined set and seeing how much they differ from one another.\n",
    "\n",
    "The procedure of a permutation test is as follows:\n",
    "\n",
    "1. Combine the results from the different groups into a single data set.\n",
    "2. Shuffle the combined data and then randomly draw (**without replacement**) a resample of the same size as group A (clearly it will contain some data from the other groups).\n",
    "3. From the remaining data, randomly draw (**without replacement**) a resample of the same size as group B.\n",
    "4. Do the same for groups C, D, and so on. You have now collected one set of resamples that mirror the sizes of the original samples.\n",
    "5. Whatever statistic or estimate was calculated for the original samples (e.g., difference in group proportions), calculate it now for the resamples, and record; this constitutes one permutation iteration.\n",
    "6. Repeat the previous steps R times to yield a permutation distribution of the test statistic.\n",
    "\n",
    "With the permutation distribution, we can go back to the observed difference between groups and compare it to the set of permuted differences. If the difference is statistiscally significant, we have successfully disproved the null hypothesis."
   ]
  },
  {
   "cell_type": "markdown",
   "id": "5f489bc8",
   "metadata": {},
   "source": [
    "### Example: Web Stickiness"
   ]
  },
  {
   "cell_type": "markdown",
   "id": "6fbfb45d",
   "metadata": {},
   "source": [
    "**Problem setup**\n",
    "\n",
    "A company selling a relatively high-value service wants to test which of two web presentations does a better selling job. Due to the high value of the service being sold, sales are infrequent and the sales cycle is lengthy; it would take too long to accumulate enough sales to know which presentation is superior. So the company decides to measure the results with a proxy variable, using the detailed interior page that describes the service.\n",
    "\n",
    "One potential proxy variable for our company is the number of clicks on the detailed landing page. A better one is how long people spend on the page. It is reasonable to think that a web presentation (page) that holds people’s attention longer will lead to more sales. Hence, our metric is average session time, comparing page A to page B."
   ]
  },
  {
   "cell_type": "code",
   "execution_count": 9,
   "id": "29d28856",
   "metadata": {},
   "outputs": [],
   "source": [
    "session_times = pd.read_csv(\"../data/web_page_data.csv\")\n",
    "session_times.Time = 100 * session_times.Time"
   ]
  },
  {
   "cell_type": "code",
   "execution_count": 11,
   "id": "d0930111",
   "metadata": {},
   "outputs": [
    {
     "data": {
      "image/png": "[encoded data removed]",
      "text/plain": [
       "<Figure size 432x288 with 1 Axes>"
      ]
     },
     "metadata": {
      "needs_background": "light"
     },
     "output_type": "display_data"
    }
   ],
   "source": [
    "ax = session_times.boxplot(by=\"Page\", column=\"Time\")\n",
    "ax.set_xlabel(\"\")\n",
    "ax.set_ylabel(\"Time (in seconds)\")\n",
    "plt.suptitle(\"\")\n",
    "\n",
    "plt.tight_layout()\n",
    "plt.show()"
   ]
  },
  {
   "cell_type": "code",
   "execution_count": 14,
   "id": "21a6bdd5",
   "metadata": {},
   "outputs": [],
   "source": [
    "mean_a = session_times[session_times[\"Page\"] == \"Page A\"][\"Time\"].mean()\n",
    "mean_b = session_times[session_times[\"Page\"] == \"Page B\"][\"Time\"].mean()"
   ]
  },
  {
   "cell_type": "code",
   "execution_count": 16,
   "id": "6db0faf4",
   "metadata": {},
   "outputs": [
    {
     "data": {
      "text/plain": [
       "35.66666666666667"
      ]
     },
     "execution_count": 16,
     "metadata": {},
     "output_type": "execute_result"
    }
   ],
   "source": [
    "mean_b - mean_a"
   ]
  },
  {
   "cell_type": "markdown",
   "id": "3ee2228e",
   "metadata": {},
   "source": [
    "We can see that the average session time of page B is greater than for page A by 35.67 seconds. The question if whether this difference is within the range of what random chance might produce. To answer that, we are going to use a permutation test."
   ]
  },
  {
   "cell_type": "code",
   "execution_count": 38,
   "id": "ba93cfd1",
   "metadata": {},
   "outputs": [],
   "source": [
    "import random\n",
    "\n",
    "def permutation_fn(times, size_a, size_b):\n",
    "    size = size_a + size_b\n",
    "    idx_b = set(random.sample(range(size), size_b))\n",
    "    idx_a = set(range(size)) - idx_b\n",
    "    return times.loc[list(idx_b)].mean() - times.loc[list(idx_a)].mean()"
   ]
  },
  {
   "cell_type": "code",
   "execution_count": 39,
   "id": "9b9931e3",
   "metadata": {},
   "outputs": [],
   "source": [
    "# get the permutation distribution\n",
    "counts = session_times[\"Page\"].value_counts()\n",
    "size_a, size_b = counts[\"Page A\"], counts[\"Page B\"]\n",
    "\n",
    "np.random.seed(1)\n",
    "perm_diffs = [permutation_fn(session_times.Time, size_a, size_b) for _ in range(1000) ]"
   ]
  },
  {
   "cell_type": "code",
   "execution_count": 44,
   "id": "48039581",
   "metadata": {},
   "outputs": [
    {
     "data": {
      "image/png": "[encoded data removed]",
      "text/plain": [
       "<Figure size 432x288 with 1 Axes>"
      ]
     },
     "metadata": {
      "needs_background": "light"
     },
     "output_type": "display_data"
    }
   ],
   "source": [
    "fig, ax = plt.subplots(1, 1)\n",
    "\n",
    "ax.hist(perm_diffs, bins=11, rwidth=0.9)\n",
    "ax.axvline(x = mean_b - mean_a, color = \"black\", lw=2, linestyle=\"--\")\n",
    "ax.text(50, 190, 'Observed\\ndifference', bbox={'facecolor':'white'})\n",
    "ax.set_xlabel('Session time differences (in seconds)')\n",
    "ax.set_ylabel('Frequency')\n",
    "\n",
    "plt.tight_layout()\n",
    "plt.show()"
   ]
  },
  {
   "cell_type": "markdown",
   "id": "8a7695af",
   "metadata": {},
   "source": [
    "In the histogram we can see that the mean difference of random permutations often exceeds the observed difference in session times (vertical line), and this happens 13.3% of the time as computed below:"
   ]
  },
  {
   "cell_type": "code",
   "execution_count": 45,
   "id": "546d03a5",
   "metadata": {},
   "outputs": [
    {
     "data": {
      "text/plain": [
       "0.133"
      ]
     },
     "execution_count": 45,
     "metadata": {},
     "output_type": "execute_result"
    }
   ],
   "source": [
    "# p-value of the permutation test\n",
    "np.mean(perm_diffs > mean_b - mean_a)"
   ]
  },
  {
   "cell_type": "markdown",
   "id": "11d37386",
   "metadata": {},
   "source": [
    "Therefore, we have evidence that the observed difference in session time between page A and page B is well within the range of chance variation and thus **is not statistically significant**."
   ]
  },
  {
   "cell_type": "markdown",
   "id": "0ca042a9",
   "metadata": {},
   "source": [
    "### Extra: Hypothesis Test using classical framework"
   ]
  },
  {
   "cell_type": "markdown",
   "id": "8ebf53a1",
   "metadata": {},
   "source": [
    "We performed a permutation test and verified that the results are not statistically significant. But one question I'm curious about is: what if I performed another test? So now, let's perform a classical hypothesis test. \n",
    "\n",
    "We want to check wheter the average session time for presentation B is greater than for presentation A. This setup characterizes a 2-sample 1-tailed t-test.\n",
    "\n",
    "\n",
    "Our hypothesis will be\n",
    "\n",
    "- $H_0$: $\\mu_b - \\mu_a = 0$\n",
    "- $H_1$: $\\mu_b - \\mu_a > 0$"
   ]
  },
  {
   "cell_type": "code",
   "execution_count": 48,
   "id": "796393a4",
   "metadata": {},
   "outputs": [
    {
     "data": {
      "text/html": [
       "<div>\n",
       "<style scoped>\n",
       "    .dataframe tbody tr th:only-of-type {\n",
       "        vertical-align: middle;\n",
       "    }\n",
       "\n",
       "    .dataframe tbody tr th {\n",
       "        vertical-align: top;\n",
       "    }\n",
       "\n",
       "    .dataframe thead tr th {\n",
       "        text-align: left;\n",
       "    }\n",
       "\n",
       "    .dataframe thead tr:last-of-type th {\n",
       "        text-align: right;\n",
       "    }\n",
       "</style>\n",
       "<table border=\"1\" class=\"dataframe\">\n",
       "  <thead>\n",
       "    <tr>\n",
       "      <th></th>\n",
       "      <th colspan=\"8\" halign=\"left\">Time</th>\n",
       "    </tr>\n",
       "    <tr>\n",
       "      <th></th>\n",
       "      <th>count</th>\n",
       "      <th>mean</th>\n",
       "      <th>std</th>\n",
       "      <th>min</th>\n",
       "      <th>25%</th>\n",
       "      <th>50%</th>\n",
       "      <th>75%</th>\n",
       "      <th>max</th>\n",
       "    </tr>\n",
       "    <tr>\n",
       "      <th>Page</th>\n",
       "      <th></th>\n",
       "      <th></th>\n",
       "      <th></th>\n",
       "      <th></th>\n",
       "      <th></th>\n",
       "      <th></th>\n",
       "      <th></th>\n",
       "      <th></th>\n",
       "    </tr>\n",
       "  </thead>\n",
       "  <tbody>\n",
       "    <tr>\n",
       "      <th>Page A</th>\n",
       "      <td>21.0</td>\n",
       "      <td>126.333333</td>\n",
       "      <td>88.463175</td>\n",
       "      <td>21.0</td>\n",
       "      <td>67.0</td>\n",
       "      <td>95.0</td>\n",
       "      <td>173.0</td>\n",
       "      <td>342.0</td>\n",
       "    </tr>\n",
       "    <tr>\n",
       "      <th>Page B</th>\n",
       "      <td>15.0</td>\n",
       "      <td>162.000000</td>\n",
       "      <td>101.136400</td>\n",
       "      <td>43.0</td>\n",
       "      <td>80.0</td>\n",
       "      <td>147.0</td>\n",
       "      <td>234.5</td>\n",
       "      <td>357.0</td>\n",
       "    </tr>\n",
       "  </tbody>\n",
       "</table>\n",
       "</div>"
      ],
      "text/plain": [
       "        Time                                                         \n",
       "       count        mean         std   min   25%    50%    75%    max\n",
       "Page                                                                 \n",
       "Page A  21.0  126.333333   88.463175  21.0  67.0   95.0  173.0  342.0\n",
       "Page B  15.0  162.000000  101.136400  43.0  80.0  147.0  234.5  357.0"
      ]
     },
     "execution_count": 48,
     "metadata": {},
     "output_type": "execute_result"
    }
   ],
   "source": [
    "# some descriptive statistics about the two samples\n",
    "session_times.groupby(\"Page\").describe()"
   ]
  },
  {
   "cell_type": "markdown",
   "id": "a527a326",
   "metadata": {},
   "source": [
    "A regular t-test statistic would be computed like this:\n",
    "\n",
    "$$\n",
    "t = \\frac{\\mu_b - \\mu_a}{SE} \\text{, where $SE = \\frac{s}{\\sqrt{n}}$ is the standard error}. \n",
    "$$"
   ]
  },
  {
   "cell_type": "markdown",
   "id": "4eabb629",
   "metadata": {},
   "source": [
    "As we are interested in the statistics describing the variance between the two samples, we need to take into account the standard errors of both samples. By assumption, we determine that the variances are equal, so we pool the standard errors using the following equation:\n",
    "\n",
    "$$\n",
    "SE_p = \\sqrt{\\frac{s_a^2}{n_a} + \\frac{s_b^2}{n_b}}\n",
    "$$\n",
    "\n",
    "and the degrees of freedom of the t distribution is $df = n_1 + n_2 - 2$."
   ]
  },
  {
   "cell_type": "code",
   "execution_count": 54,
   "id": "02400b65",
   "metadata": {},
   "outputs": [],
   "source": [
    "std_a = session_times[session_times[\"Page\"] == \"Page A\"][\"Time\"].std()\n",
    "std_b = session_times[session_times[\"Page\"] == \"Page B\"][\"Time\"].std()\n",
    "\n",
    "se_p = np.sqrt(std_a**2 / size_a + std_b**2 / size_b)\n",
    "t_statistic = (mean_b - mean_a) / se_p\n",
    "\n",
    "degrees_freedom = size_a + size_b - 2\n",
    "t_critical = 1.307"
   ]
  },
  {
   "cell_type": "code",
   "execution_count": 56,
   "id": "cb4c5b14",
   "metadata": {},
   "outputs": [
    {
     "data": {
      "text/plain": [
       "1.098315562363811"
      ]
     },
     "execution_count": 56,
     "metadata": {},
     "output_type": "execute_result"
    }
   ],
   "source": [
    "t_statistic"
   ]
  },
  {
   "cell_type": "code",
   "execution_count": 57,
   "id": "73e3bc89",
   "metadata": {},
   "outputs": [
    {
     "data": {
      "text/plain": [
       "True"
      ]
     },
     "execution_count": 57,
     "metadata": {},
     "output_type": "execute_result"
    }
   ],
   "source": [
    "t_statistic < t_critical"
   ]
  },
  {
   "cell_type": "markdown",
   "id": "38fdc12e",
   "metadata": {},
   "source": [
    "Since our test statistic is less than the critical value of the t-distribution at 10% significance level, we fail to reject the null hypothesis that there is no statistical difference between the sample means.\n",
    "\n",
    "Another way to check this result is to build a confidence interval around the mean of the difference between the means using the formula showed in the previous chapter:\n",
    "\n",
    "$$\n",
    "\\bar{x} \\pm t_{34}(0.1) \\frac{s}{\\sqrt{n}}\n",
    "$$"
   ]
  },
  {
   "cell_type": "code",
   "execution_count": 59,
   "id": "eaf7d2ad",
   "metadata": {},
   "outputs": [],
   "source": [
    "lower, upper = [(mean_b - mean_a) - t_critical*se_p, (mean_b - mean_a) + t_critical*se_p]"
   ]
  },
  {
   "cell_type": "code",
   "execution_count": 60,
   "id": "215af778",
   "metadata": {},
   "outputs": [
    {
     "data": {
      "text/plain": [
       "(-6.776812175611568, 78.11014550894491)"
      ]
     },
     "execution_count": 60,
     "metadata": {},
     "output_type": "execute_result"
    }
   ],
   "source": [
    "lower, upper"
   ]
  },
  {
   "cell_type": "markdown",
   "id": "ab245d94",
   "metadata": {},
   "source": [
    "As the lower bound is a negative number, and the upper bound is a positive number, the confidence encompass zero indicating that zero (our hypothesized difference) is a valid estimate of the mean difference between the two samples. This conclusion is obviously the same as the previous test, and we would treat our null hypothesis in the same way."
   ]
  },
  {
   "cell_type": "markdown",
   "id": "4bb3bca0",
   "metadata": {},
   "source": [
    "In addition, we can also compute the p-value for this test statistic:"
   ]
  },
  {
   "cell_type": "code",
   "execution_count": 66,
   "id": "3e256be8",
   "metadata": {},
   "outputs": [
    {
     "data": {
      "text/plain": [
       "0.13989195118925815"
      ]
     },
     "execution_count": 66,
     "metadata": {},
     "output_type": "execute_result"
    }
   ],
   "source": [
    "# comput p-value\n",
    "from scipy import stats\n",
    "\n",
    "stats.t.sf(t_statistic, df=degrees_freedom)"
   ]
  },
  {
   "cell_type": "markdown",
   "id": "9ec7feee",
   "metadata": {},
   "source": [
    "As the result suggests, the evidence is that results are not statistically significant at the 10% significance level of the test."
   ]
  },
  {
   "cell_type": "markdown",
   "id": "d0cfe012",
   "metadata": {},
   "source": [
    "## Statistical Significance and p-Values"
   ]
  },
  {
   "cell_type": "markdown",
   "id": "e977ce70",
   "metadata": {},
   "source": [
    "Statistical significance is how statisticians measure whether an experiment (or even a study of existing data) yields a result more extreme than what chance might produce.\n",
    "\n",
    "Important concepts to keep in mind in this setting are:\n",
    "\n",
    "**p-value**\n",
    "Given a model built under the null hypothesis, i.e. assuming the null is true, the p-value is the probability of obtaining results as unusual or extreme as the observed results.\n",
    "\n",
    "**alpha**\n",
    "The probability threshold of “unusualness” that chance results must surpass for actual outcomes to be deemed statistically significant."
   ]
  },
  {
   "cell_type": "markdown",
   "id": "e4bcb177",
   "metadata": {},
   "source": [
    "Now consider the following dataset \n",
    "\n",
    "| outcome | Price A | Price B |\n",
    "|---------|---------|---------|\n",
    "| conversion | 200 | 182 |\n",
    "| No conversion | 23539 | 22406 |\n",
    "\n",
    "displaying the results of the web test discussed ealier with presentations A and B. Price A converts almost 5% better than price B ($0.8425\\% = 200/(23539+200)*100$, versus $0.8057\\% = 182/(22406+182)*100$ - a difference of 0.0368 percentage points), big enough to be meaningful in a high-volume business.\n",
    "\n",
    "The following permutation procedure asks, \"If the two prices share the same conversion rate, could chance variation produce a difference as big as 5%?\":\n"
   ]
  },
  {
   "cell_type": "markdown",
   "id": "d9a4d4eb",
   "metadata": {},
   "source": [
    "1. Put cards labeled 1 and 0 in a box: this represents the supposed shared conversion rate of 382 ones and 45,945 zeros = 0.008246 = 0.8246%.\n",
    "2. Shuffle and draw out a resample of size 23,739 (same n as price A), and record how many 1s.\n",
    "3. Record the number of 1s in the remaining 22,588 (same n as price B).\n",
    "4. Record the difference in proportion of 1s.\n",
    "5. Repeat steps 2–4.\n",
    "6. How often was the difference $\\ge$ 0.0368?"
   ]
  },
  {
   "cell_type": "code",
   "execution_count": 67,
   "id": "d9e0345c",
   "metadata": {},
   "outputs": [
    {
     "data": {
      "text/plain": [
       "0.036048710699681207"
      ]
     },
     "execution_count": 67,
     "metadata": {},
     "output_type": "execute_result"
    }
   ],
   "source": [
    "obs_pct_diff = 100 * (200 / 23759 - 182 / 22588)\n",
    "obs_pct_diff"
   ]
  },
  {
   "cell_type": "code",
   "execution_count": 68,
   "id": "1485283f",
   "metadata": {},
   "outputs": [],
   "source": [
    "conversion = [0] * 45945\n",
    "conversion.extend([1] * 382)\n",
    "conversion = pd.Series(conversion)"
   ]
  },
  {
   "cell_type": "code",
   "execution_count": 74,
   "id": "6a050b65",
   "metadata": {},
   "outputs": [],
   "source": [
    "np.random.seed(1)\n",
    "perm_diffs = [100 * permutation_fn(conversion, 23739, 22588) for _ in range(1000)]"
   ]
  },
  {
   "cell_type": "code",
   "execution_count": 75,
   "id": "99e58741",
   "metadata": {},
   "outputs": [
    {
     "data": {
      "image/png": "[encoded data removed]",
      "text/plain": [
       "<Figure size 360x360 with 1 Axes>"
      ]
     },
     "metadata": {
      "needs_background": "light"
     },
     "output_type": "display_data"
    }
   ],
   "source": [
    "fig, ax = plt.subplots(figsize=(5, 5))\n",
    "\n",
    "ax.hist(perm_diffs, bins=11, rwidth=0.9)\n",
    "ax.axvline(x=obs_pct_diff, color='black', lw=2, linestyle=\"--\")\n",
    "ax.text(0.06, 200, 'Observed\\ndifference', bbox={'facecolor':'white'})\n",
    "ax.set_xlabel('Conversion rate (percent)')\n",
    "ax.set_ylabel('Frequency')\n",
    "\n",
    "plt.tight_layout()\n",
    "plt.show()"
   ]
  },
  {
   "cell_type": "markdown",
   "id": "a8cdfa18",
   "metadata": {},
   "source": [
    "As it happens, in this case the observed difference of 0.0368% is well within the range of chance variation."
   ]
  },
  {
   "cell_type": "markdown",
   "id": "ff97e5b3",
   "metadata": {},
   "source": [
    "### p-value"
   ]
  },
  {
   "cell_type": "markdown",
   "id": "c923611e",
   "metadata": {},
   "source": [
    "Simply looking at the distribution might be tricky some times. A better way of assessing statistical significance is using the p-value. The p-value of a permutation test is computed by taking the proportion of times that the permutation test produces a difference equal to or greater than the observed difference."
   ]
  },
  {
   "cell_type": "code",
   "execution_count": 76,
   "id": "41079748",
   "metadata": {},
   "outputs": [
    {
     "data": {
      "text/plain": [
       "0.31"
      ]
     },
     "execution_count": 76,
     "metadata": {},
     "output_type": "execute_result"
    }
   ],
   "source": [
    "np.mean([diff > obs_pct_diff for diff in perm_diffs])"
   ]
  },
  {
   "cell_type": "markdown",
   "id": "7885f98e",
   "metadata": {},
   "source": [
    "The p-value is 0.31, which means that we would expect to achieve a result as extreme as this, or a more extreme result, by random chance over 31% of the time."
   ]
  },
  {
   "cell_type": "code",
   "execution_count": 77,
   "id": "0fa069aa",
   "metadata": {},
   "outputs": [
    {
     "name": "stdout",
     "output_type": "stream",
     "text": [
      "p-value for single sided test: 0.3498\n"
     ]
    }
   ],
   "source": [
    "survivors = np.array([[200, 23739 - 200], [182, 22588 - 182]])\n",
    "chi2, p_value, df, _ = stats.chi2_contingency(survivors)\n",
    "\n",
    "print(f'p-value for single sided test: {p_value / 2:.4f}')"
   ]
  },
  {
   "cell_type": "markdown",
   "id": "8545cddf",
   "metadata": {},
   "source": [
    "The normal approximation yields a p-value of 0.3498, which is close to the p-value obtained from the permutation test."
   ]
  },
  {
   "cell_type": "code",
   "execution_count": null,
   "id": "3295cd81",
   "metadata": {},
   "outputs": [],
   "source": []
  }
 ],
 "metadata": {
  "kernelspec": {
   "display_name": "Python 3 (ipykernel)",
   "language": "python",
   "name": "python3"
  },
  "language_info": {
   "codemirror_mode": {
    "name": "ipython",
    "version": 3
   },
   "file_extension": ".py",
   "mimetype": "text/x-python",
   "name": "python",
   "nbconvert_exporter": "python",
   "pygments_lexer": "ipython3",
   "version": "3.8.10"
  },
  "varInspector": {
   "cols": {
    "lenName": 16,
    "lenType": 16,
    "lenVar": 40
   },
   "kernels_config": {
    "python": {
     "delete_cmd_postfix": "",
     "delete_cmd_prefix": "del ",
     "library": "var_list.py",
     "varRefreshCmd": "print(var_dic_list())"
    },
    "r": {
     "delete_cmd_postfix": ") ",
     "delete_cmd_prefix": "rm(",
     "library": "var_list.r",
     "varRefreshCmd": "cat(var_dic_list()) "
    }
   },
   "types_to_exclude": [
    "module",
    "function",
    "builtin_function_or_method",
    "instance",
    "_Feature"
   ],
   "window_display": false
  }
 },
 "nbformat": 4,
 "nbformat_minor": 5
}
