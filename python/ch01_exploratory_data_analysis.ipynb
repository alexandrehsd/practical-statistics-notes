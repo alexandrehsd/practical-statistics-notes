{
 "cells": [
  {
   "cell_type": "markdown",
   "id": "d83da73e",
   "metadata": {},
   "source": [
    "# Chapter 01 - Exploratory Data Analysis"
   ]
  },
  {
   "cell_type": "markdown",
   "id": "a700779e",
   "metadata": {},
   "source": [
    "## Estimates of Location"
   ]
  },
  {
   "cell_type": "markdown",
   "id": "5deaf841",
   "metadata": {},
   "source": [
    "Estimates of location express the data to a single summary value. They are based on some different concepts:\n",
    "\n",
    "- Mean based location estimates:\n",
    "\n",
    "$\\bar{x} = \\frac{\\sum_{i=1}^n x_i}{n}$ (Mean) \\\n",
    "$\\bar{x} = \\frac{\\sum_{i=p+1}^{n-p} x_i}{n-2p}$ (Trimmed Mean), where p is the number of smallest and largest values to be ommited. \\\n",
    "$\\bar{x} = \\frac{\\sum_{i=1}^n w_i x_i}{\\sum_{i=1}^n w_i}$ (Weighted Mean), where $w_i$ is the weight of each instance.\n",
    "\n",
    "- Median and robust estimates:\n",
    "\n",
    "Median: also known as the 50th percentile, is the middle number on a sorted list of data. If the number of records is even, then the median is the average between the two values that divide the dataset. \\\n",
    "Weighted median: Same as the median, but in this case, each value in the dataset has a weight, and the weighted median is the value such that the sum of the weights is equal for the lower and upper halves of the sorted list."
   ]
  },
  {
   "cell_type": "code",
   "execution_count": 4,
   "id": "4c3b2bca",
   "metadata": {},
   "outputs": [],
   "source": [
    "import numpy as np\n",
    "import pandas as pd\n"
   ]
  },
  {
   "cell_type": "code",
   "execution_count": 2,
   "id": "133aede9",
   "metadata": {},
   "outputs": [],
   "source": [
    "state = pd.read_csv(\"../data/state.csv\")"
   ]
  },
  {
   "cell_type": "code",
   "execution_count": 9,
   "id": "4150affa",
   "metadata": {},
   "outputs": [
    {
     "data": {
      "text/html": [
       "<div>\n",
       "<style scoped>\n",
       "    .dataframe tbody tr th:only-of-type {\n",
       "        vertical-align: middle;\n",
       "    }\n",
       "\n",
       "    .dataframe tbody tr th {\n",
       "        vertical-align: top;\n",
       "    }\n",
       "\n",
       "    .dataframe thead th {\n",
       "        text-align: right;\n",
       "    }\n",
       "</style>\n",
       "<table border=\"1\" class=\"dataframe\">\n",
       "  <thead>\n",
       "    <tr style=\"text-align: right;\">\n",
       "      <th></th>\n",
       "      <th>State</th>\n",
       "      <th>Population</th>\n",
       "      <th>Murder.Rate</th>\n",
       "      <th>Abbreviation</th>\n",
       "    </tr>\n",
       "  </thead>\n",
       "  <tbody>\n",
       "    <tr>\n",
       "      <th>0</th>\n",
       "      <td>Alabama</td>\n",
       "      <td>4779736</td>\n",
       "      <td>5.7</td>\n",
       "      <td>AL</td>\n",
       "    </tr>\n",
       "    <tr>\n",
       "      <th>1</th>\n",
       "      <td>Alaska</td>\n",
       "      <td>710231</td>\n",
       "      <td>5.6</td>\n",
       "      <td>AK</td>\n",
       "    </tr>\n",
       "    <tr>\n",
       "      <th>2</th>\n",
       "      <td>Arizona</td>\n",
       "      <td>6392017</td>\n",
       "      <td>4.7</td>\n",
       "      <td>AZ</td>\n",
       "    </tr>\n",
       "    <tr>\n",
       "      <th>3</th>\n",
       "      <td>Arkansas</td>\n",
       "      <td>2915918</td>\n",
       "      <td>5.6</td>\n",
       "      <td>AR</td>\n",
       "    </tr>\n",
       "    <tr>\n",
       "      <th>4</th>\n",
       "      <td>California</td>\n",
       "      <td>37253956</td>\n",
       "      <td>4.4</td>\n",
       "      <td>CA</td>\n",
       "    </tr>\n",
       "  </tbody>\n",
       "</table>\n",
       "</div>"
      ],
      "text/plain": [
       "        State  Population  Murder.Rate Abbreviation\n",
       "0     Alabama     4779736          5.7           AL\n",
       "1      Alaska      710231          5.6           AK\n",
       "2     Arizona     6392017          4.7           AZ\n",
       "3    Arkansas     2915918          5.6           AR\n",
       "4  California    37253956          4.4           CA"
      ]
     },
     "execution_count": 9,
     "metadata": {},
     "output_type": "execute_result"
    }
   ],
   "source": [
    "state.head()"
   ]
  },
  {
   "cell_type": "code",
   "execution_count": 3,
   "id": "03fc58b5",
   "metadata": {},
   "outputs": [
    {
     "data": {
      "text/plain": [
       "6162876.3"
      ]
     },
     "execution_count": 3,
     "metadata": {},
     "output_type": "execute_result"
    }
   ],
   "source": [
    "# mean\n",
    "state[\"Population\"].mean()"
   ]
  },
  {
   "cell_type": "code",
   "execution_count": 5,
   "id": "0f30aecd",
   "metadata": {},
   "outputs": [
    {
     "data": {
      "text/plain": [
       "4783697.125"
      ]
     },
     "execution_count": 5,
     "metadata": {},
     "output_type": "execute_result"
    }
   ],
   "source": [
    "# trimmed mean\n",
    "from scipy import stats\n",
    "\n",
    "stats.trim_mean(state[\"Population\"], 0.1)"
   ]
  },
  {
   "cell_type": "code",
   "execution_count": 7,
   "id": "9a067437",
   "metadata": {},
   "outputs": [
    {
     "data": {
      "text/plain": [
       "4.445833981123393"
      ]
     },
     "execution_count": 7,
     "metadata": {},
     "output_type": "execute_result"
    }
   ],
   "source": [
    "# weighted mean\n",
    "np.average(state[\"Murder.Rate\"], weights=state[\"Population\"])"
   ]
  },
  {
   "cell_type": "code",
   "execution_count": 6,
   "id": "49d56940",
   "metadata": {},
   "outputs": [
    {
     "data": {
      "text/plain": [
       "4436369.5"
      ]
     },
     "execution_count": 6,
     "metadata": {},
     "output_type": "execute_result"
    }
   ],
   "source": [
    "# median\n",
    "state[\"Population\"].median()"
   ]
  },
  {
   "cell_type": "markdown",
   "id": "02a65d57",
   "metadata": {},
   "source": [
    "## Estimates of Variability"
   ]
  },
  {
   "cell_type": "markdown",
   "id": "7a1f4207",
   "metadata": {},
   "source": [
    "Estimates of variability is the second most important dimension when summarizing a feature. Behind only the estimates of location themselves. Commonly, estimates of variability are based on different approaches:\n",
    "\n",
    "- Standard Deviation and Related Estimates:\n",
    "\n",
    "$\\frac{\\sum_{i=1}^{n} \\lvert x_i - \\bar{x} \\rvert}{n}$ (Mean absolute deviation, or Manhattan distance) \\\n",
    "$s^2 = \\frac{\\sum_{i=1}^{n} (x_i - \\bar{x})^2}{n-1}$ (Variance) \\\n",
    "$s = \\sqrt{\\text{Variance}}$ (Standard Deviation)\n",
    "\n",
    "All those variability estimates are very sensible to outliers, especially the variance and the standard deviation. A more robust metric is the following:\n",
    "\n",
    "$\\text{Median}(\\lvert x_1-m \\rvert, \\lvert x_2-m \\rvert, \\cdot\\cdot\\cdot, \\lvert x_N-m \\rvert)$, where $m$ is the median. (Median absolute devitation from the median, or MAD)\n",
    "\n",
    "It is also possible to compute a trimmed standard deviation analogous to the trimmed mean.\n",
    "\n",
    "- Estimates based on Percentiles\n",
    "\n",
    "Range: The difference between the largest and the smallest numbers. \\\n",
    "Percentile: the Pth percentile is a value such that at least P percent of the values take on this value or less and at least (100 – P) percent of the values take on this value or more. \\\n",
    "Quantile: The quantile is exacly the same as the percentile, excepted that it is indexed by fractions (the 0.6 quantile is the 60th percentile). \\\n",
    "Interquartile Range (IQR): the difference between the 25th percentile and the 75th percentile."
   ]
  },
  {
   "cell_type": "code",
   "execution_count": 10,
   "id": "a4cae343",
   "metadata": {},
   "outputs": [
    {
     "data": {
      "text/plain": [
       "6848235.347401142"
      ]
     },
     "execution_count": 10,
     "metadata": {},
     "output_type": "execute_result"
    }
   ],
   "source": [
    "# standard deviation\n",
    "state[\"Population\"].std()"
   ]
  },
  {
   "cell_type": "code",
   "execution_count": 11,
   "id": "ed64053e",
   "metadata": {},
   "outputs": [
    {
     "data": {
      "text/plain": [
       "4847308.0"
      ]
     },
     "execution_count": 11,
     "metadata": {},
     "output_type": "execute_result"
    }
   ],
   "source": [
    "# IQR\n",
    "state[\"Population\"].quantile(0.75) - state[\"Population\"].quantile(0.25)"
   ]
  },
  {
   "cell_type": "code",
   "execution_count": 13,
   "id": "c3e5f5e4",
   "metadata": {},
   "outputs": [
    {
     "data": {
      "text/plain": [
       "3849876.1459979336"
      ]
     },
     "execution_count": 13,
     "metadata": {},
     "output_type": "execute_result"
    }
   ],
   "source": [
    "# median absolute deviation from the median\n",
    "from statsmodels import robust\n",
    "\n",
    "robust.scale.mad(state[\"Population\"])"
   ]
  },
  {
   "cell_type": "code",
   "execution_count": 14,
   "id": "03afce4a",
   "metadata": {},
   "outputs": [
    {
     "data": {
      "text/plain": [
       "0.05    1.600\n",
       "0.25    2.425\n",
       "0.50    4.000\n",
       "0.75    5.550\n",
       "0.95    6.510\n",
       "Name: Murder.Rate, dtype: float64"
      ]
     },
     "execution_count": 14,
     "metadata": {},
     "output_type": "execute_result"
    }
   ],
   "source": [
    "# quantiles\n",
    "state['Murder.Rate'].quantile([0.05, 0.25, 0.5, 0.75, 0.95])"
   ]
  },
  {
   "cell_type": "markdown",
   "id": "b708dd23",
   "metadata": {},
   "source": [
    "## Exploring the Data Distribution"
   ]
  },
  {
   "cell_type": "markdown",
   "id": "2b8861e4",
   "metadata": {},
   "source": [
    "Common tools used to explore and visualize the data distribution are:\n",
    "\n",
    "- Boxplots\n",
    "- Frequency Table\n",
    "- Histogram\n",
    "- Density Plot"
   ]
  },
  {
   "cell_type": "markdown",
   "id": "0e5a26ac",
   "metadata": {},
   "source": [
    "**Box Plots**"
   ]
  },
  {
   "cell_type": "code",
   "execution_count": 17,
   "id": "4a334e84",
   "metadata": {},
   "outputs": [
    {
     "data": {
      "image/png": "[encoded data removed]",
      "text/plain": [
       "<Figure size 432x288 with 1 Axes>"
      ]
     },
     "metadata": {
      "needs_background": "light"
     },
     "output_type": "display_data"
    }
   ],
   "source": [
    "import matplotlib.pyplot as plt\n",
    "\n",
    "# box plot\n",
    "fig, ax = plt.subplots(1, 1)\n",
    "\n",
    "ax = (state[\"Population\"] / 1_000_000).plot.box()\n",
    "ax.set_ylabel(\"Population (millions)\")\n",
    "\n",
    "plt.show()"
   ]
  },
  {
   "cell_type": "markdown",
   "id": "98542ddb",
   "metadata": {},
   "source": [
    "The box represents represents the interquartile range, where the top box is the 75th percentile and the bottom box is the 25th percentile. The green line is the median. The lines outside the box represents the bulk of the distribution and they will now go further than **1.5 times the IQR**. Any data outside of the range of the lines are plotted as sinfle points or circles and are often considered as **outliers**."
   ]
  },
  {
   "cell_type": "markdown",
   "id": "6c987b62",
   "metadata": {},
   "source": [
    "**Frequency Tables and Histograms**"
   ]
  },
  {
   "cell_type": "markdown",
   "id": "2c17b7f6",
   "metadata": {},
   "source": [
    "A frequency table divides up the data range into equally spaced segments."
   ]
  },
  {
   "cell_type": "code",
   "execution_count": 19,
   "id": "ebde5bed",
   "metadata": {},
   "outputs": [
    {
     "data": {
      "text/plain": [
       "(526935.67, 4232659.0]      24\n",
       "(4232659.0, 7901692.0]      14\n",
       "(7901692.0, 11570725.0]      6\n",
       "(11570725.0, 15239758.0]     2\n",
       "(15239758.0, 18908791.0]     1\n",
       "(18908791.0, 22577824.0]     1\n",
       "(22577824.0, 26246857.0]     1\n",
       "(33584923.0, 37253956.0]     1\n",
       "(26246857.0, 29915890.0]     0\n",
       "(29915890.0, 33584923.0]     0\n",
       "Name: Population, dtype: int64"
      ]
     },
     "execution_count": 19,
     "metadata": {},
     "output_type": "execute_result"
    }
   ],
   "source": [
    "# frequency table\n",
    "binnedPopulation = pd.cut(state[\"Population\"], 10)\n",
    "binnedPopulation.value_counts()"
   ]
  },
  {
   "cell_type": "markdown",
   "id": "db09639d",
   "metadata": {},
   "source": [
    "The tool to visualize a frequency table is by plotting a histogram of the data."
   ]
  },
  {
   "cell_type": "code",
   "execution_count": 20,
   "id": "47e53e6c",
   "metadata": {},
   "outputs": [
    {
     "data": {
      "image/png": "[encoded data removed]",
      "text/plain": [
       "<Figure size 288x288 with 1 Axes>"
      ]
     },
     "metadata": {
      "needs_background": "light"
     },
     "output_type": "display_data"
    }
   ],
   "source": [
    "# histogram\n",
    "fig, ax = plt.subplots(1, 1, figsize=(4, 4))\n",
    "\n",
    "ax = (state[\"Population\"] / 1_000_000).plot.hist()\n",
    "ax.set_xlabel(\"Population (millions)\")\n",
    "\n",
    "plt.show()"
   ]
  },
  {
   "cell_type": "markdown",
   "id": "c61c2713",
   "metadata": {},
   "source": [
    "The rules for plotting histograms are:\n",
    "1. Empty bins are included in the graph.\n",
    "2. Bins are of equal width.\n",
    "3. The number of bins (or, equivalently, bin size) is up to the user.\n",
    "4. Bars are contiguous—no empty space shows between bars, unless there is an empty bin."
   ]
  },
  {
   "cell_type": "markdown",
   "id": "6438f514",
   "metadata": {},
   "source": [
    "**Density Plots and Estimates**"
   ]
  },
  {
   "cell_type": "markdown",
   "id": "95c440f3",
   "metadata": {},
   "source": [
    "A density plot is closed related to a histogram. Basically, it shows a smoothed histogram, and is drawn from a function based on the data through a *kernel density estimation*."
   ]
  },
  {
   "cell_type": "code",
   "execution_count": 23,
   "id": "3a5fec0b",
   "metadata": {},
   "outputs": [
    {
     "data": {
      "image/png": "[encoded data removed]",
      "text/plain": [
       "<Figure size 288x288 with 1 Axes>"
      ]
     },
     "metadata": {
      "needs_background": "light"
     },
     "output_type": "display_data"
    }
   ],
   "source": [
    "fig, ax = plt.subplots(1, 1, figsize=(4, 4))\n",
    "\n",
    "ax = state[\"Murder.Rate\"].plot.hist(density=True, xlim=[0, 12], bins=range(1, 12))\n",
    "state[\"Murder.Rate\"].plot.density(ax=ax)\n",
    "ax.set_xlabel(\"Murder Rate (per 100,000)\")\n",
    "\n",
    "plt.show()"
   ]
  },
  {
   "cell_type": "markdown",
   "id": "9461fb75",
   "metadata": {},
   "source": [
    "Note that in this case, the y-axis does not display the counts of elements on each bin like it is done in a histogram. Instead, the density plot show the proportion of the data under each point of the curve. Besides, instead of counts in bins, you calculate areas under the curve between any two points on the x-axis in order to compute the proportion of the distribution lying between those two points."
   ]
  }
 ],
 "metadata": {
  "kernelspec": {
   "display_name": "Python 3 (ipykernel)",
   "language": "python",
   "name": "python3"
  },
  "language_info": {
   "codemirror_mode": {
    "name": "ipython",
    "version": 3
   },
   "file_extension": ".py",
   "mimetype": "text/x-python",
   "name": "python",
   "nbconvert_exporter": "python",
   "pygments_lexer": "ipython3",
   "version": "3.8.10"
  },
  "varInspector": {
   "cols": {
    "lenName": 16,
    "lenType": 16,
    "lenVar": 40
   },
   "kernels_config": {
    "python": {
     "delete_cmd_postfix": "",
     "delete_cmd_prefix": "del ",
     "library": "var_list.py",
     "varRefreshCmd": "print(var_dic_list())"
    },
    "r": {
     "delete_cmd_postfix": ") ",
     "delete_cmd_prefix": "rm(",
     "library": "var_list.r",
     "varRefreshCmd": "cat(var_dic_list()) "
    }
   },
   "types_to_exclude": [
    "module",
    "function",
    "builtin_function_or_method",
    "instance",
    "_Feature"
   ],
   "window_display": false
  }
 },
 "nbformat": 4,
 "nbformat_minor": 5
}
